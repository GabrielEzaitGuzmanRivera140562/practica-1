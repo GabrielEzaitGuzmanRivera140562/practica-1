{
  "nbformat": 4,
  "nbformat_minor": 0,
  "metadata": {
    "colab": {
      "provenance": []
    },
    "kernelspec": {
      "name": "python3",
      "display_name": "Python 3"
    },
    "language_info": {
      "name": "python"
    }
  },
  "cells": [
    {
      "cell_type": "code",
      "execution_count": null,
      "metadata": {
        "colab": {
          "base_uri": "https://localhost:8080/"
        },
        "id": "fkduF22b2yHd",
        "outputId": "d2c19102-2892-4e00-8711-64bdb680e8a1"
      },
      "outputs": [
        {
          "output_type": "stream",
          "name": "stdout",
          "text": [
            "Collecting nacal\n",
            "  Downloading nacal-0.1.30-py3-none-any.whl (33 kB)\n",
            "Requirement already satisfied: sympy>=1.1.0 in /usr/local/lib/python3.10/dist-packages (from nacal) (1.12)\n",
            "Requirement already satisfied: mpmath>=0.19 in /usr/local/lib/python3.10/dist-packages (from sympy>=1.1.0->nacal) (1.3.0)\n",
            "Installing collected packages: nacal\n",
            "Successfully installed nacal-0.1.30\n"
          ]
        }
      ],
      "source": [
        "!pip install --target=$nb_path nacal\n",
        "from nacal import *"
      ]
    },
    {
      "cell_type": "markdown",
      "source": [
        "Propiedades de linealidad en el vector.\n",
        "A(b+c)=Ab+Ac"
      ],
      "metadata": {
        "id": "Z8FVUOvu2-py"
      }
    },
    {
      "cell_type": "markdown",
      "source": [
        "Primero definimos las matrices y los vectores:"
      ],
      "metadata": {
        "id": "bzGE6lEB3jbq"
      }
    },
    {
      "cell_type": "code",
      "source": [
        "#Matrices\n",
        "f = Vector([1,2,3])\n",
        "d = Vector([8,3,6])\n",
        "p = Vector([4,5,1])\n",
        "A = Matrix([f,d,p])\n",
        "print(A)\n",
        "A\n",
        "i = Vector([6,1,0])\n",
        "g = Vector([0,4,8])\n",
        "o = Vector([8,15,13])\n",
        "B = Matrix([i,g,o])\n",
        "print(B)\n",
        "B\n",
        "#Vectores\n",
        "b = Vector([9,6,2])\n",
        "c = Vector([12,6,5])\n",
        "c"
      ],
      "metadata": {
        "colab": {
          "base_uri": "https://localhost:8080/",
          "height": 81
        },
        "id": "ZwLtv5iB3-A1",
        "outputId": "a991557b-f1c5-42e7-e2c1-00b5793f3736"
      },
      "execution_count": null,
      "outputs": [
        {
          "output_type": "stream",
          "name": "stdout",
          "text": [
            "Matrix([Vector([1, 2, 3]), Vector([8, 3, 6]), Vector([4, 5, 1])])\n",
            "Matrix([Vector([6, 1, 0]), Vector([0, 4, 8]), Vector([8, 15, 13])])\n"
          ]
        },
        {
          "output_type": "execute_result",
          "data": {
            "text/plain": [
              "Vector([12, 6, 5])"
            ],
            "text/html": [
              "<p style=\"text-align:center;\">$\\begin{pmatrix}12\\\\ 6\\\\ 5\\end{pmatrix}$</p>"
            ],
            "image/png": "$\\begin{pmatrix}12\\\\ 6\\\\ 5\\end{pmatrix}$",
            "text/latex": "$\\begin{pmatrix}12\\\\ 6\\\\ 5\\end{pmatrix}$"
          },
          "metadata": {},
          "execution_count": 2
        }
      ]
    },
    {
      "cell_type": "markdown",
      "source": [
        "Creamos las propiedades:"
      ],
      "metadata": {
        "id": "7u9RVoH04L54"
      }
    },
    {
      "cell_type": "code",
      "source": [
        "op1 = (b+c)\n",
        "op2 = A*op1\n",
        "print(op2)\n",
        "\n",
        "op3 = A*b+A*c\n",
        "print(op3)\n",
        "op2"
      ],
      "metadata": {
        "colab": {
          "base_uri": "https://localhost:8080/",
          "height": 81
        },
        "id": "aTr9XAmi40xT",
        "outputId": "d1a4d425-9725-4a4a-d56f-d11c82f2101d"
      },
      "execution_count": null,
      "outputs": [
        {
          "output_type": "stream",
          "name": "stdout",
          "text": [
            "Vector([145, 113, 142])\n",
            "Vector([145, 113, 142])\n"
          ]
        },
        {
          "output_type": "execute_result",
          "data": {
            "text/plain": [
              "Vector([145, 113, 142])"
            ],
            "text/html": [
              "<p style=\"text-align:center;\">$\\begin{pmatrix}145\\\\ 113\\\\ 142\\end{pmatrix}$</p>"
            ],
            "image/png": "$\\begin{pmatrix}145\\\\ 113\\\\ 142\\end{pmatrix}$",
            "text/latex": "$\\begin{pmatrix}145\\\\ 113\\\\ 142\\end{pmatrix}$"
          },
          "metadata": {},
          "execution_count": 3
        }
      ]
    },
    {
      "cell_type": "markdown",
      "source": [
        "$\\begin{pmatrix}145\\\\ 113\\\\ 142\\end{pmatrix}$"
      ],
      "metadata": {
        "id": "jU3E8NhT48XQ"
      }
    },
    {
      "cell_type": "markdown",
      "source": [
        "**A(b+c)=Ab+Ac**\n"
      ],
      "metadata": {
        "id": "x9x7cCro5C4k"
      }
    },
    {
      "cell_type": "code",
      "source": [
        "opx = (b+c)*A\n",
        "print(opx)\n",
        "opx2 = b*A+c*A\n",
        "print(opx2)\n",
        "opx2"
      ],
      "metadata": {
        "colab": {
          "base_uri": "https://localhost:8080/",
          "height": 81
        },
        "id": "YJcE8s0C53pt",
        "outputId": "fd905efd-1a45-4fd5-df13-0123d93e7e69"
      },
      "execution_count": null,
      "outputs": [
        {
          "output_type": "stream",
          "name": "stdout",
          "text": [
            "Vector([66, 246, 151])\n",
            "Vector([66, 246, 151])\n"
          ]
        },
        {
          "output_type": "execute_result",
          "data": {
            "text/plain": [
              "Vector([66, 246, 151])"
            ],
            "text/html": [
              "<p style=\"text-align:center;\">$\\begin{pmatrix}66\\\\ 246\\\\ 151\\end{pmatrix}$</p>"
            ],
            "image/png": "$\\begin{pmatrix}66\\\\ 246\\\\ 151\\end{pmatrix}$",
            "text/latex": "$\\begin{pmatrix}66\\\\ 246\\\\ 151\\end{pmatrix}$"
          },
          "metadata": {},
          "execution_count": 4
        }
      ]
    },
    {
      "cell_type": "markdown",
      "source": [
        "$\\begin{pmatrix}66\\\\ 246\\\\ 151\\end{pmatrix}$"
      ],
      "metadata": {
        "id": "ol05HSHv6ToV"
      }
    },
    {
      "cell_type": "markdown",
      "source": [
        "**2:A(λb) = λ(Ab)**"
      ],
      "metadata": {
        "id": "yj_Lk4uJ6bB2"
      }
    },
    {
      "cell_type": "markdown",
      "source": [
        "utilizamos el escalar numero 2 para hacer las propiedad:"
      ],
      "metadata": {
        "id": "HnaqUWLT6q2D"
      }
    },
    {
      "cell_type": "code",
      "source": [
        "op4 = A*(3*b)\n",
        "print(op4)\n",
        "op5 = 3*(A*b)\n",
        "print(op5)\n",
        "op5"
      ],
      "metadata": {
        "colab": {
          "base_uri": "https://localhost:8080/",
          "height": 81
        },
        "id": "ztTEFbHv6xtA",
        "outputId": "8a089c1c-9972-4a5f-87df-68b321e993f3"
      },
      "execution_count": null,
      "outputs": [
        {
          "output_type": "stream",
          "name": "stdout",
          "text": [
            "Vector([195, 138, 195])\n",
            "Vector([195, 138, 195])\n"
          ]
        },
        {
          "output_type": "execute_result",
          "data": {
            "text/plain": [
              "Vector([195, 138, 195])"
            ],
            "text/html": [
              "<p style=\"text-align:center;\">$\\begin{pmatrix}195\\\\ 138\\\\ 195\\end{pmatrix}$</p>"
            ],
            "image/png": "$\\begin{pmatrix}195\\\\ 138\\\\ 195\\end{pmatrix}$",
            "text/latex": "$\\begin{pmatrix}195\\\\ 138\\\\ 195\\end{pmatrix}$"
          },
          "metadata": {},
          "execution_count": 5
        }
      ]
    },
    {
      "cell_type": "markdown",
      "source": [
        "$\\begin{pmatrix}195\\\\ 138\\\\ 195\\end{pmatrix}$"
      ],
      "metadata": {
        "id": "55Mjra4j61RP"
      }
    },
    {
      "cell_type": "markdown",
      "source": [
        "**(λb)A = λ(bA)**"
      ],
      "metadata": {
        "id": "h_9OhUGf65Od"
      }
    },
    {
      "cell_type": "code",
      "source": [
        "op6 = (2*b)*A\n",
        "print(op6)\n",
        "op7 = 2*(b*A)\n",
        "print(op7)"
      ],
      "metadata": {
        "colab": {
          "base_uri": "https://localhost:8080/"
        },
        "id": "GLwa2Pp267Be",
        "outputId": "400db1a6-a6e4-4edb-a1af-e7311ddb889e"
      },
      "execution_count": null,
      "outputs": [
        {
          "output_type": "stream",
          "name": "stdout",
          "text": [
            "Vector([54, 204, 136])\n",
            "Vector([54, 204, 136])\n"
          ]
        }
      ]
    },
    {
      "cell_type": "markdown",
      "source": [
        "Otras propiedades:"
      ],
      "metadata": {
        "id": "Z97-PKYx7VTC"
      }
    },
    {
      "cell_type": "markdown",
      "source": [
        "**A(Bc)=[A(B|1); ... A(B|n);]c**"
      ],
      "metadata": {
        "id": "gsi8dIdB7YOQ"
      }
    },
    {
      "cell_type": "code",
      "source": [
        "op8 = (B|1)*A\n",
        "print(op8)\n",
        "op9 = (B|2)*A\n",
        "print(op9)\n",
        "op10 = (B|3)*A\n",
        "print(op10)\n",
        "op11 = op8*c\n",
        "print(op11)"
      ],
      "metadata": {
        "colab": {
          "base_uri": "https://localhost:8080/"
        },
        "id": "IrksaD7z7ifC",
        "outputId": "d6b2855c-298d-4459-d206-37f8253ff8e0"
      },
      "execution_count": null,
      "outputs": [
        {
          "output_type": "stream",
          "name": "stdout",
          "text": [
            "Vector([8, 51, 29])\n",
            "Vector([32, 60, 28])\n",
            "Vector([77, 187, 120])\n",
            "547\n"
          ]
        }
      ]
    },
    {
      "cell_type": "markdown",
      "source": [
        "**Lineal en la matriz: (A + B)c = Ac + Bc**"
      ],
      "metadata": {
        "id": "89zGoaqi8qy7"
      }
    },
    {
      "cell_type": "code",
      "source": [
        "op15 = (A+B)*c\n",
        "print(op15)\n",
        "\n",
        "op16 = A*c + B*c\n",
        "print(op16)\n",
        "op16"
      ],
      "metadata": {
        "colab": {
          "base_uri": "https://localhost:8080/",
          "height": 81
        },
        "id": "Fes-mny288L6",
        "outputId": "d50e3cda-46c3-4cd3-edd2-001a73502f38"
      },
      "execution_count": null,
      "outputs": [
        {
          "output_type": "stream",
          "name": "stdout",
          "text": [
            "Vector([192, 178, 190])\n",
            "Vector([192, 178, 190])\n"
          ]
        },
        {
          "output_type": "execute_result",
          "data": {
            "text/plain": [
              "Vector([192, 178, 190])"
            ],
            "text/html": [
              "<p style=\"text-align:center;\">$\\begin{pmatrix}192\\\\ 178\\\\ 190\\end{pmatrix}$</p>"
            ],
            "image/png": "$\\begin{pmatrix}192\\\\ 178\\\\ 190\\end{pmatrix}$",
            "text/latex": "$\\begin{pmatrix}192\\\\ 178\\\\ 190\\end{pmatrix}$"
          },
          "metadata": {},
          "execution_count": 8
        }
      ]
    },
    {
      "cell_type": "markdown",
      "source": [
        "$\\begin{pmatrix}192\\\\ 178\\\\ 190\\end{pmatrix}$"
      ],
      "metadata": {
        "id": "_6OZq3fl8_8E"
      }
    },
    {
      "cell_type": "markdown",
      "source": [
        "**(λA)b = λ(Ab)**"
      ],
      "metadata": {
        "id": "onYy2jEz9BjC"
      }
    },
    {
      "cell_type": "code",
      "source": [
        "op17 = (3*A)*b\n",
        "print(op17)\n",
        "\n",
        "op18 = 3*(A*b)\n",
        "print(op18)\n",
        "op18"
      ],
      "metadata": {
        "colab": {
          "base_uri": "https://localhost:8080/",
          "height": 81
        },
        "id": "PLSK23em9GL_",
        "outputId": "48d24dd7-53b0-4d1a-ae6d-4fad357f1b69"
      },
      "execution_count": null,
      "outputs": [
        {
          "output_type": "stream",
          "name": "stdout",
          "text": [
            "Vector([195, 138, 195])\n",
            "Vector([195, 138, 195])\n"
          ]
        },
        {
          "output_type": "execute_result",
          "data": {
            "text/plain": [
              "Vector([195, 138, 195])"
            ],
            "text/html": [
              "<p style=\"text-align:center;\">$\\begin{pmatrix}195\\\\ 138\\\\ 195\\end{pmatrix}$</p>"
            ],
            "image/png": "$\\begin{pmatrix}195\\\\ 138\\\\ 195\\end{pmatrix}$",
            "text/latex": "$\\begin{pmatrix}195\\\\ 138\\\\ 195\\end{pmatrix}$"
          },
          "metadata": {},
          "execution_count": 9
        }
      ]
    },
    {
      "cell_type": "markdown",
      "source": [
        "$\\begin{pmatrix}195\\\\ 138\\\\ 195\\end{pmatrix}$"
      ],
      "metadata": {
        "id": "EB0NTRfi9H-n"
      }
    }
  ]
}