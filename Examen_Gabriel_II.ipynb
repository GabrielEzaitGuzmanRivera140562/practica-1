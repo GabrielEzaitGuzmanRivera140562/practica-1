{
  "nbformat": 4,
  "nbformat_minor": 0,
  "metadata": {
    "colab": {
      "provenance": [],
      "authorship_tag": "ABX9TyNd/ifPvXiPPEplg+dCxe0G",
      "include_colab_link": true
    },
    "kernelspec": {
      "name": "python3",
      "display_name": "Python 3"
    },
    "language_info": {
      "name": "python"
    }
  },
  "cells": [
    {
      "cell_type": "markdown",
      "metadata": {
        "id": "view-in-github",
        "colab_type": "text"
      },
      "source": [
        "<a href=\"https://colab.research.google.com/github/GabrielEzaitGuzmanRivera140562/practicas/blob/Algebra-lineal/Examen_Gabriel_II.ipynb\" target=\"_parent\"><img src=\"https://colab.research.google.com/assets/colab-badge.svg\" alt=\"Open In Colab\"/></a>"
      ]
    },
    {
      "cell_type": "code",
      "execution_count": 1,
      "metadata": {
        "colab": {
          "base_uri": "https://localhost:8080/"
        },
        "id": "mcOSPqNjSQn5",
        "outputId": "bbac3cb9-6978-4775-8610-928f47670cdf"
      },
      "outputs": [
        {
          "output_type": "stream",
          "name": "stdout",
          "text": [
            "Collecting nacal\n",
            "  Downloading nacal-0.2.1-py3-none-any.whl (40 kB)\n",
            "\u001b[?25l     \u001b[90m━━━━━━━━━━━━━━━━━━━━━━━━━━━━━━━━━━━━━━━━\u001b[0m \u001b[32m0.0/40.0 kB\u001b[0m \u001b[31m?\u001b[0m eta \u001b[36m-:--:--\u001b[0m\r\u001b[2K     \u001b[90m━━━━━━━━━━━━━━━━━━━━━━━━━━━━━━━━━━━━━━━━\u001b[0m \u001b[32m40.0/40.0 kB\u001b[0m \u001b[31m923.5 kB/s\u001b[0m eta \u001b[36m0:00:00\u001b[0m\n",
            "\u001b[?25hRequirement already satisfied: sympy>=1.1.0 in /usr/local/lib/python3.10/dist-packages (from nacal) (1.12.1)\n",
            "Requirement already satisfied: mpmath<1.4.0,>=1.1.0 in /usr/local/lib/python3.10/dist-packages (from sympy>=1.1.0->nacal) (1.3.0)\n",
            "Installing collected packages: nacal\n",
            "Successfully installed nacal-0.2.1\n"
          ]
        }
      ],
      "source": [
        "!pip install --target=$nb_path nacal\n",
        "from nacal import *"
      ]
    },
    {
      "cell_type": "markdown",
      "source": [
        "1. Para la siguiente matriz $$\\left[ \\begin{array}{cccc}3&-2&2&1\\\\1&-1&-1&-3\\\\2&1&2&4\\\\4&-4&1&2\\\\ \\end{array} \\right]$$ lleva a cabo el algoritmo de eliminación paso a paso.\n",
        "\n",
        "Escribe en una celda separada cada operacion elemental."
      ],
      "metadata": {
        "id": "7ytJr4LzSRIX"
      }
    },
    {
      "cell_type": "code",
      "source": [
        "f = Vector([3,1,2,4])\n",
        "h = Vector([-2,-1,1,-4])\n",
        "t = Vector([2,-1,2,1])\n",
        "r = Vector([1,-3,4,2])\n",
        "A = Matrix([f,h,t,r])\n",
        "A"
      ],
      "metadata": {
        "colab": {
          "base_uri": "https://localhost:8080/",
          "height": 46
        },
        "id": "FbB0c2DSTFYQ",
        "outputId": "7d68c070-10ac-45ef-bc7e-6dcdc0ef6a94"
      },
      "execution_count": 2,
      "outputs": [
        {
          "output_type": "execute_result",
          "data": {
            "text/plain": [
              "Matrix([Vector([3, 1, 2, 4]), Vector([-2, -1, 1, -4]), Vector([2, -1, 2, 1]), Vector([1, -3, 4, 2])])"
            ],
            "text/html": [
              "<p style=\"text-align:center;\">$\\left[ \\begin{array}{cccc}3&-2&2&1\\\\1&-1&-1&-3\\\\2&1&2&4\\\\4&-4&1&2\\\\ \\end{array} \\right]$</p>"
            ],
            "image/png": "$\\left[ \\begin{array}{cccc}3&-2&2&1\\\\1&-1&-1&-3\\\\2&1&2&4\\\\4&-4&1&2\\\\ \\end{array} \\right]$",
            "text/latex": "$\\left[ \\begin{array}{cccc}3&-2&2&1\\\\1&-1&-1&-3\\\\2&1&2&4\\\\4&-4&1&2\\\\ \\end{array} \\right]$"
          },
          "metadata": {},
          "execution_count": 2
        }
      ]
    },
    {
      "cell_type": "markdown",
      "source": [
        "$\\left[ \\begin{array}{cccc}3&-2&2&1\\\\1&-1&-1&-3\\\\2&1&2&4\\\\4&-4&1&2\\\\ \\end{array} \\right]$"
      ],
      "metadata": {
        "id": "_iIAjcFYTR4g"
      }
    },
    {
      "cell_type": "code",
      "source": [
        "A&T((fracc(1,3),1))"
      ],
      "metadata": {
        "colab": {
          "base_uri": "https://localhost:8080/",
          "height": 46
        },
        "id": "rw9YfpXgTz4g",
        "outputId": "4009d76e-dd5b-43ad-9905-39683b5c5041"
      },
      "execution_count": 3,
      "outputs": [
        {
          "output_type": "execute_result",
          "data": {
            "text/plain": [
              "Matrix([Vector([1, 1/3, 2/3, 4/3]), Vector([-2, -1, 1, -4]), Vector([2, -1, 2, 1]), Vector([1, -3, 4, 2])])"
            ],
            "text/html": [
              "<p style=\"text-align:center;\">$\\left[ \\begin{array}{cccc}1&-2&2&1\\\\\\frac{1}{3}&-1&-1&-3\\\\\\frac{2}{3}&1&2&4\\\\\\frac{4}{3}&-4&1&2\\\\ \\end{array} \\right]$</p>"
            ],
            "image/png": "$\\left[ \\begin{array}{cccc}1&-2&2&1\\\\\\frac{1}{3}&-1&-1&-3\\\\\\frac{2}{3}&1&2&4\\\\\\frac{4}{3}&-4&1&2\\\\ \\end{array} \\right]$",
            "text/latex": "$\\left[ \\begin{array}{cccc}1&-2&2&1\\\\\\frac{1}{3}&-1&-1&-3\\\\\\frac{2}{3}&1&2&4\\\\\\frac{4}{3}&-4&1&2\\\\ \\end{array} \\right]$"
          },
          "metadata": {},
          "execution_count": 3
        }
      ]
    },
    {
      "cell_type": "markdown",
      "source": [
        "$\\left[ \\begin{array}{cccc}1&-2&2&1\\\\\\frac{1}{3}&-1&-1&-3\\\\\\frac{2}{3}&1&2&4\\\\\\frac{4}{3}&-4&1&2\\\\ \\end{array} \\right]$"
      ],
      "metadata": {
        "id": "GJwSEbNuT3AY"
      }
    },
    {
      "cell_type": "code",
      "source": [
        "A&T((fracc(1,3),2,1))"
      ],
      "metadata": {
        "colab": {
          "base_uri": "https://localhost:8080/",
          "height": 46
        },
        "id": "wjd5LkmAT3fh",
        "outputId": "feaa5fd7-47f0-464e-9d3a-7d8592fa4bc4"
      },
      "execution_count": 4,
      "outputs": [
        {
          "output_type": "execute_result",
          "data": {
            "text/plain": [
              "Matrix([Vector([1/3, 0, 1, 0]), Vector([-2, -1, 1, -4]), Vector([2, -1, 2, 1]), Vector([1, -3, 4, 2])])"
            ],
            "text/html": [
              "<p style=\"text-align:center;\">$\\left[ \\begin{array}{cccc}\\frac{1}{3}&-2&2&1\\\\0&-1&-1&-3\\\\1&1&2&4\\\\0&-4&1&2\\\\ \\end{array} \\right]$</p>"
            ],
            "image/png": "$\\left[ \\begin{array}{cccc}\\frac{1}{3}&-2&2&1\\\\0&-1&-1&-3\\\\1&1&2&4\\\\0&-4&1&2\\\\ \\end{array} \\right]$",
            "text/latex": "$\\left[ \\begin{array}{cccc}\\frac{1}{3}&-2&2&1\\\\0&-1&-1&-3\\\\1&1&2&4\\\\0&-4&1&2\\\\ \\end{array} \\right]$"
          },
          "metadata": {},
          "execution_count": 4
        }
      ]
    },
    {
      "cell_type": "markdown",
      "source": [
        "$\\left[ \\begin{array}{cccc}\\frac{1}{3}&-2&2&1\\\\0&-1&-1&-3\\\\1&1&2&4\\\\0&-4&1&2\\\\ \\end{array} \\right]$"
      ],
      "metadata": {
        "id": "2_bKr0-RT5o2"
      }
    },
    {
      "cell_type": "code",
      "source": [
        "A&T((-1,2))"
      ],
      "metadata": {
        "colab": {
          "base_uri": "https://localhost:8080/",
          "height": 46
        },
        "id": "78Zz-oc1T6JJ",
        "outputId": "3e7f3114-ddd2-45d5-be6d-3f9fde245de8"
      },
      "execution_count": 5,
      "outputs": [
        {
          "output_type": "execute_result",
          "data": {
            "text/plain": [
              "Matrix([Vector([1/3, 0, 1, 0]), Vector([2, 1, -1, 4]), Vector([2, -1, 2, 1]), Vector([1, -3, 4, 2])])"
            ],
            "text/html": [
              "<p style=\"text-align:center;\">$\\left[ \\begin{array}{cccc}\\frac{1}{3}&2&2&1\\\\0&1&-1&-3\\\\1&-1&2&4\\\\0&4&1&2\\\\ \\end{array} \\right]$</p>"
            ],
            "image/png": "$\\left[ \\begin{array}{cccc}\\frac{1}{3}&2&2&1\\\\0&1&-1&-3\\\\1&-1&2&4\\\\0&4&1&2\\\\ \\end{array} \\right]$",
            "text/latex": "$\\left[ \\begin{array}{cccc}\\frac{1}{3}&2&2&1\\\\0&1&-1&-3\\\\1&-1&2&4\\\\0&4&1&2\\\\ \\end{array} \\right]$"
          },
          "metadata": {},
          "execution_count": 5
        }
      ]
    },
    {
      "cell_type": "markdown",
      "source": [
        "$\\left[ \\begin{array}{cccc}\\frac{1}{3}&2&2&1\\\\0&1&-1&-3\\\\1&-1&2&4\\\\0&4&1&2\\\\ \\end{array} \\right]$"
      ],
      "metadata": {
        "id": "w2RNLNW8T8MZ"
      }
    },
    {
      "cell_type": "code",
      "source": [
        "A&T((2,2,3))"
      ],
      "metadata": {
        "colab": {
          "base_uri": "https://localhost:8080/",
          "height": 46
        },
        "id": "yH66OsveT-aO",
        "outputId": "cdae3a19-5150-4df0-be7c-57e4f58874cd"
      },
      "execution_count": 6,
      "outputs": [
        {
          "output_type": "execute_result",
          "data": {
            "text/plain": [
              "Matrix([Vector([1/3, 0, 1, 0]), Vector([2, 1, -1, 4]), Vector([6, 1, 0, 9]), Vector([1, -3, 4, 2])])"
            ],
            "text/html": [
              "<p style=\"text-align:center;\">$\\left[ \\begin{array}{cccc}\\frac{1}{3}&2&6&1\\\\0&1&1&-3\\\\1&-1&0&4\\\\0&4&9&2\\\\ \\end{array} \\right]$</p>"
            ],
            "image/png": "$\\left[ \\begin{array}{cccc}\\frac{1}{3}&2&6&1\\\\0&1&1&-3\\\\1&-1&0&4\\\\0&4&9&2\\\\ \\end{array} \\right]$",
            "text/latex": "$\\left[ \\begin{array}{cccc}\\frac{1}{3}&2&6&1\\\\0&1&1&-3\\\\1&-1&0&4\\\\0&4&9&2\\\\ \\end{array} \\right]$"
          },
          "metadata": {},
          "execution_count": 6
        }
      ]
    },
    {
      "cell_type": "markdown",
      "source": [
        "$\\left[ \\begin{array}{cccc}\\frac{1}{3}&2&6&1\\\\0&1&1&-3\\\\1&-1&0&4\\\\0&4&9&2\\\\ \\end{array} \\right]$"
      ],
      "metadata": {
        "id": "sv3wz22kT_hL"
      }
    },
    {
      "cell_type": "code",
      "source": [
        "A&T((-1,2,3))"
      ],
      "metadata": {
        "colab": {
          "base_uri": "https://localhost:8080/",
          "height": 46
        },
        "id": "LTGVWfdSUClD",
        "outputId": "bbb34184-81be-4bc3-b229-3a49a91d3b12"
      },
      "execution_count": 7,
      "outputs": [
        {
          "output_type": "execute_result",
          "data": {
            "text/plain": [
              "Matrix([Vector([1/3, 0, 1, 0]), Vector([2, 1, -1, 4]), Vector([4, 0, 1, 5]), Vector([1, -3, 4, 2])])"
            ],
            "text/html": [
              "<p style=\"text-align:center;\">$\\left[ \\begin{array}{cccc}\\frac{1}{3}&2&4&1\\\\0&1&0&-3\\\\1&-1&1&4\\\\0&4&5&2\\\\ \\end{array} \\right]$</p>"
            ],
            "image/png": "$\\left[ \\begin{array}{cccc}\\frac{1}{3}&2&4&1\\\\0&1&0&-3\\\\1&-1&1&4\\\\0&4&5&2\\\\ \\end{array} \\right]$",
            "text/latex": "$\\left[ \\begin{array}{cccc}\\frac{1}{3}&2&4&1\\\\0&1&0&-3\\\\1&-1&1&4\\\\0&4&5&2\\\\ \\end{array} \\right]$"
          },
          "metadata": {},
          "execution_count": 7
        }
      ]
    },
    {
      "cell_type": "markdown",
      "source": [
        "begin{array}{cccc}\\frac{1}{3}&2&4&1\\\\0&1&0&-3\\\\1&-1&1&4\\\\0&4&5&2\\\\ \\end{array} \\right]$"
      ],
      "metadata": {
        "id": "tHPC5E-QUEgc"
      }
    },
    {
      "cell_type": "code",
      "source": [
        "A&T((1,3,2))"
      ],
      "metadata": {
        "colab": {
          "base_uri": "https://localhost:8080/",
          "height": 46
        },
        "id": "b1ja4ValUGB1",
        "outputId": "a59744df-6c08-41e0-f931-6b0a519039be"
      },
      "execution_count": 8,
      "outputs": [
        {
          "output_type": "execute_result",
          "data": {
            "text/plain": [
              "Matrix([Vector([1/3, 0, 1, 0]), Vector([6, 1, 0, 9]), Vector([4, 0, 1, 5]), Vector([1, -3, 4, 2])])"
            ],
            "text/html": [
              "<p style=\"text-align:center;\">$\\left[ \\begin{array}{cccc}\\frac{1}{3}&6&4&1\\\\0&1&0&-3\\\\1&0&1&4\\\\0&9&5&2\\\\ \\end{array} \\right]$</p>"
            ],
            "image/png": "$\\left[ \\begin{array}{cccc}\\frac{1}{3}&6&4&1\\\\0&1&0&-3\\\\1&0&1&4\\\\0&9&5&2\\\\ \\end{array} \\right]$",
            "text/latex": "$\\left[ \\begin{array}{cccc}\\frac{1}{3}&6&4&1\\\\0&1&0&-3\\\\1&0&1&4\\\\0&9&5&2\\\\ \\end{array} \\right]$"
          },
          "metadata": {},
          "execution_count": 8
        }
      ]
    },
    {
      "cell_type": "markdown",
      "source": [
        "$\\left[ \\begin{array}{cccc}\\frac{1}{3}&6&4&1\\\\0&1&0&-3\\\\1&0&1&4\\\\0&9&5&2\\\\ \\end{array} \\right]$"
      ],
      "metadata": {
        "id": "ylxQ9A8tUGtX"
      }
    },
    {
      "cell_type": "code",
      "source": [
        "A&T((-4,3,4))"
      ],
      "metadata": {
        "colab": {
          "base_uri": "https://localhost:8080/",
          "height": 46
        },
        "id": "pw59rL3kUIq1",
        "outputId": "e1d3f0bc-d36c-445d-be95-207e4ace7fc3"
      },
      "execution_count": 9,
      "outputs": [
        {
          "output_type": "execute_result",
          "data": {
            "text/plain": [
              "Matrix([Vector([1/3, 0, 1, 0]), Vector([6, 1, 0, 9]), Vector([4, 0, 1, 5]), Vector([-15, -3, 0, -18])])"
            ],
            "text/html": [
              "<p style=\"text-align:center;\">$\\left[ \\begin{array}{cccc}\\frac{1}{3}&6&4&-15\\\\0&1&0&-3\\\\1&0&1&0\\\\0&9&5&-18\\\\ \\end{array} \\right]$</p>"
            ],
            "image/png": "$\\left[ \\begin{array}{cccc}\\frac{1}{3}&6&4&-15\\\\0&1&0&-3\\\\1&0&1&0\\\\0&9&5&-18\\\\ \\end{array} \\right]$",
            "text/latex": "$\\left[ \\begin{array}{cccc}\\frac{1}{3}&6&4&-15\\\\0&1&0&-3\\\\1&0&1&0\\\\0&9&5&-18\\\\ \\end{array} \\right]$"
          },
          "metadata": {},
          "execution_count": 9
        }
      ]
    },
    {
      "cell_type": "markdown",
      "source": [
        "$\\left[ \\begin{array}{cccc}\\frac{1}{3}&6&4&-15\\\\0&1&0&-3\\\\1&0&1&0\\\\0&9&5&-18\\\\ \\end{array} \\right]$"
      ],
      "metadata": {
        "id": "GUmOUcbJUKx3"
      }
    },
    {
      "cell_type": "code",
      "source": [
        "A&T((-1,3,1))"
      ],
      "metadata": {
        "colab": {
          "base_uri": "https://localhost:8080/",
          "height": 46
        },
        "id": "G7folnVIULVD",
        "outputId": "d07e29fd-ad2f-4154-f108-2bb7c90818d7"
      },
      "execution_count": 10,
      "outputs": [
        {
          "output_type": "execute_result",
          "data": {
            "text/plain": [
              "Matrix([Vector([-11/3, 0, 0, -5]), Vector([6, 1, 0, 9]), Vector([4, 0, 1, 5]), Vector([-15, -3, 0, -18])])"
            ],
            "text/html": [
              "<p style=\"text-align:center;\">$\\left[ \\begin{array}{cccc}- \\frac{11}{3}&6&4&-15\\\\0&1&0&-3\\\\0&0&1&0\\\\-5&9&5&-18\\\\ \\end{array} \\right]$</p>"
            ],
            "image/png": "$\\left[ \\begin{array}{cccc}- \\frac{11}{3}&6&4&-15\\\\0&1&0&-3\\\\0&0&1&0\\\\-5&9&5&-18\\\\ \\end{array} \\right]$",
            "text/latex": "$\\left[ \\begin{array}{cccc}- \\frac{11}{3}&6&4&-15\\\\0&1&0&-3\\\\0&0&1&0\\\\-5&9&5&-18\\\\ \\end{array} \\right]$"
          },
          "metadata": {},
          "execution_count": 10
        }
      ]
    },
    {
      "cell_type": "markdown",
      "source": [
        "$\\left[ \\begin{array}{cccc}- \\frac{11}{3}&6&4&-15\\\\0&1&0&-3\\\\0&0&1&0\\\\-5&9&5&-18\\\\ \\end{array} \\right]$"
      ],
      "metadata": {
        "id": "OwC0LCdTUNOC"
      }
    },
    {
      "cell_type": "code",
      "source": [
        "A&T((fracc(-1,18),4))"
      ],
      "metadata": {
        "colab": {
          "base_uri": "https://localhost:8080/",
          "height": 46
        },
        "id": "Fejn08H4UOom",
        "outputId": "8c5b3c3a-0a36-4d87-e20d-aa7cd9b35ac8"
      },
      "execution_count": 11,
      "outputs": [
        {
          "output_type": "execute_result",
          "data": {
            "text/plain": [
              "Matrix([Vector([-11/3, 0, 0, -5]), Vector([6, 1, 0, 9]), Vector([4, 0, 1, 5]), Vector([5/6, 1/6, 0, 1])])"
            ],
            "text/html": [
              "<p style=\"text-align:center;\">$\\left[ \\begin{array}{cccc}- \\frac{11}{3}&6&4&\\frac{5}{6}\\\\0&1&0&\\frac{1}{6}\\\\0&0&1&0\\\\-5&9&5&1\\\\ \\end{array} \\right]$</p>"
            ],
            "image/png": "$\\left[ \\begin{array}{cccc}- \\frac{11}{3}&6&4&\\frac{5}{6}\\\\0&1&0&\\frac{1}{6}\\\\0&0&1&0\\\\-5&9&5&1\\\\ \\end{array} \\right]$",
            "text/latex": "$\\left[ \\begin{array}{cccc}- \\frac{11}{3}&6&4&\\frac{5}{6}\\\\0&1&0&\\frac{1}{6}\\\\0&0&1&0\\\\-5&9&5&1\\\\ \\end{array} \\right]$"
          },
          "metadata": {},
          "execution_count": 11
        }
      ]
    },
    {
      "cell_type": "markdown",
      "source": [
        "$\\left[ \\begin{array}{cccc}- \\frac{11}{3}&6&4&\\frac{5}{6}\\\\0&1&0&\\frac{1}{6}\\\\0&0&1&0\\\\-5&9&5&1\\\\ \\end{array} \\right]$"
      ],
      "metadata": {
        "id": "LZy4mlD4UQRW"
      }
    },
    {
      "cell_type": "code",
      "source": [
        "A&T((-5,4,3))\n",
        "A&T((-9,4,2))\n",
        "A&T((5,4,1))"
      ],
      "metadata": {
        "colab": {
          "base_uri": "https://localhost:8080/",
          "height": 64
        },
        "id": "a5CSZMr8UQ9J",
        "outputId": "3f6235bb-be5b-4e68-a2ca-f7be1562d4f0"
      },
      "execution_count": 12,
      "outputs": [
        {
          "output_type": "execute_result",
          "data": {
            "text/plain": [
              "Matrix([Vector([1/2, 5/6, 0, 0]), Vector([-3/2, -1/2, 0, 0]), Vector([-1/6, -5/6, 1, 0]), Vector([5/6, 1/6, 0, 1])])"
            ],
            "text/html": [
              "<p style=\"text-align:center;\">$\\left[ \\begin{array}{cccc}\\frac{1}{2}&- \\frac{3}{2}&- \\frac{1}{6}&\\frac{5}{6}\\\\\\frac{5}{6}&- \\frac{1}{2}&- \\frac{5}{6}&\\frac{1}{6}\\\\0&0&1&0\\\\0&0&0&1\\\\ \\end{array} \\right]$</p>"
            ],
            "image/png": "$\\left[ \\begin{array}{cccc}\\frac{1}{2}&- \\frac{3}{2}&- \\frac{1}{6}&\\frac{5}{6}\\\\\\frac{5}{6}&- \\frac{1}{2}&- \\frac{5}{6}&\\frac{1}{6}\\\\0&0&1&0\\\\0&0&0&1\\\\ \\end{array} \\right]$",
            "text/latex": "$\\left[ \\begin{array}{cccc}\\frac{1}{2}&- \\frac{3}{2}&- \\frac{1}{6}&\\frac{5}{6}\\\\\\frac{5}{6}&- \\frac{1}{2}&- \\frac{5}{6}&\\frac{1}{6}\\\\0&0&1&0\\\\0&0&0&1\\\\ \\end{array} \\right]$"
          },
          "metadata": {},
          "execution_count": 12
        }
      ]
    },
    {
      "cell_type": "markdown",
      "source": [
        "$\\left[ \\begin{array}{cccc}\\frac{1}{2}&- \\frac{3}{2}&- \\frac{1}{6}&\\frac{5}{6}\\\\\\frac{5}{6}&- \\frac{1}{2}&- \\frac{5}{6}&\\frac{1}{6}\\\\0&0&1&0\\\\0&0&0&1\\\\ \\end{array} \\right]$"
      ],
      "metadata": {
        "id": "o2S2rd_KUTRq"
      }
    },
    {
      "cell_type": "code",
      "source": [
        "A&T((fracc(-2,1),2))\n",
        "A&T((fracc(2,1),1))\n",
        "A&T((fracc(-5,3),2,1))"
      ],
      "metadata": {
        "colab": {
          "base_uri": "https://localhost:8080/",
          "height": 46
        },
        "id": "YijQSlNjUTxw",
        "outputId": "53e0757d-ac45-4a8a-e771-88efea0dd6ca"
      },
      "execution_count": 13,
      "outputs": [
        {
          "output_type": "execute_result",
          "data": {
            "text/plain": [
              "Matrix([Vector([-4, 0, 0, 0]), Vector([3, 1, 0, 0]), Vector([-1/6, -5/6, 1, 0]), Vector([5/6, 1/6, 0, 1])])"
            ],
            "text/html": [
              "<p style=\"text-align:center;\">$\\left[ \\begin{array}{cccc}-4&3&- \\frac{1}{6}&\\frac{5}{6}\\\\0&1&- \\frac{5}{6}&\\frac{1}{6}\\\\0&0&1&0\\\\0&0&0&1\\\\ \\end{array} \\right]$</p>"
            ],
            "image/png": "$\\left[ \\begin{array}{cccc}-4&3&- \\frac{1}{6}&\\frac{5}{6}\\\\0&1&- \\frac{5}{6}&\\frac{1}{6}\\\\0&0&1&0\\\\0&0&0&1\\\\ \\end{array} \\right]$",
            "text/latex": "$\\left[ \\begin{array}{cccc}-4&3&- \\frac{1}{6}&\\frac{5}{6}\\\\0&1&- \\frac{5}{6}&\\frac{1}{6}\\\\0&0&1&0\\\\0&0&0&1\\\\ \\end{array} \\right]$"
          },
          "metadata": {},
          "execution_count": 13
        }
      ]
    },
    {
      "cell_type": "markdown",
      "source": [
        "$\\left[ \\begin{array}{cccc}-4&3&- \\frac{1}{6}&\\frac{5}{6}\\\\0&1&- \\frac{5}{6}&\\frac{1}{6}\\\\0&0&1&0\\\\0&0&0&1\\\\ \\end{array} \\right]$"
      ],
      "metadata": {
        "id": "ZwTIVI8-UV_7"
      }
    },
    {
      "cell_type": "code",
      "source": [
        "A&T((fracc(-1,4),1))"
      ],
      "metadata": {
        "colab": {
          "base_uri": "https://localhost:8080/",
          "height": 46
        },
        "id": "N-o8Me0DUWhT",
        "outputId": "82a392a6-0dc2-4abc-8ac0-4296ffb9552a"
      },
      "execution_count": 14,
      "outputs": [
        {
          "output_type": "execute_result",
          "data": {
            "text/plain": [
              "Matrix([Vector([1, 0, 0, 0]), Vector([3, 1, 0, 0]), Vector([-1/6, -5/6, 1, 0]), Vector([5/6, 1/6, 0, 1])])"
            ],
            "text/html": [
              "<p style=\"text-align:center;\">$\\left[ \\begin{array}{cccc}1&3&- \\frac{1}{6}&\\frac{5}{6}\\\\0&1&- \\frac{5}{6}&\\frac{1}{6}\\\\0&0&1&0\\\\0&0&0&1\\\\ \\end{array} \\right]$</p>"
            ],
            "image/png": "$\\left[ \\begin{array}{cccc}1&3&- \\frac{1}{6}&\\frac{5}{6}\\\\0&1&- \\frac{5}{6}&\\frac{1}{6}\\\\0&0&1&0\\\\0&0&0&1\\\\ \\end{array} \\right]$",
            "text/latex": "$\\left[ \\begin{array}{cccc}1&3&- \\frac{1}{6}&\\frac{5}{6}\\\\0&1&- \\frac{5}{6}&\\frac{1}{6}\\\\0&0&1&0\\\\0&0&0&1\\\\ \\end{array} \\right]$"
          },
          "metadata": {},
          "execution_count": 14
        }
      ]
    },
    {
      "cell_type": "markdown",
      "source": [
        "$\\left[ \\begin{array}{cccc}1&3&- \\frac{1}{6}&\\frac{5}{6}\\\\0&1&- \\frac{5}{6}&\\frac{1}{6}\\\\0&0&1&0\\\\0&0&0&1\\\\ \\end{array} \\right]$"
      ],
      "metadata": {
        "id": "vy8XXlaDUX-S"
      }
    },
    {
      "cell_type": "markdown",
      "source": [
        "2. Escriba las siguientes matrices elementales de orden 4.\n",
        "\n",
        "\n",
        "(a) I τ\n",
        "[(−7)1+3]\n",
        "\n",
        "(b) I τ\n",
        "[(1)1+4]\n",
        "\n",
        "(c) I τ\n",
        "[(3)2+1]\n",
        "\n",
        "(d) I τ\n",
        "[(−10)3]"
      ],
      "metadata": {
        "id": "-m_SFr_GUcuN"
      }
    },
    {
      "cell_type": "markdown",
      "source": [
        "**Para (a)**"
      ],
      "metadata": {
        "id": "9cObKBaJUf2U"
      }
    },
    {
      "cell_type": "code",
      "source": [
        "B = I(4)\n",
        "B"
      ],
      "metadata": {
        "colab": {
          "base_uri": "https://localhost:8080/",
          "height": 46
        },
        "id": "dKUgn7KuUfjU",
        "outputId": "f1f9b6fc-cf8f-4309-f924-c695fd359151"
      },
      "execution_count": 15,
      "outputs": [
        {
          "output_type": "execute_result",
          "data": {
            "text/plain": [
              "Matrix([Vector([1, 0, 0, 0]), Vector([0, 1, 0, 0]), Vector([0, 0, 1, 0]), Vector([0, 0, 0, 1])])"
            ],
            "text/html": [
              "<p style=\"text-align:center;\">$\\left[ \\begin{array}{cccc}1&0&0&0\\\\0&1&0&0\\\\0&0&1&0\\\\0&0&0&1\\\\ \\end{array} \\right]$</p>"
            ],
            "image/png": "$\\left[ \\begin{array}{cccc}1&0&0&0\\\\0&1&0&0\\\\0&0&1&0\\\\0&0&0&1\\\\ \\end{array} \\right]$",
            "text/latex": "$\\left[ \\begin{array}{cccc}1&0&0&0\\\\0&1&0&0\\\\0&0&1&0\\\\0&0&0&1\\\\ \\end{array} \\right]$"
          },
          "metadata": {},
          "execution_count": 15
        }
      ]
    },
    {
      "cell_type": "markdown",
      "source": [
        "$\\left[ \\begin{array}{cccc}1&0&0&0\\\\0&1&0&0\\\\0&0&1&0\\\\0&0&0&1\\\\ \\end{array} \\right]$"
      ],
      "metadata": {
        "id": "419f4Yt1V0wp"
      }
    },
    {
      "cell_type": "code",
      "source": [
        "B&T((-7,1,3))"
      ],
      "metadata": {
        "colab": {
          "base_uri": "https://localhost:8080/",
          "height": 46
        },
        "id": "ir-TVu4AV2A4",
        "outputId": "6d0cfbdd-06e2-46b1-fa3d-0a208d39594b"
      },
      "execution_count": 16,
      "outputs": [
        {
          "output_type": "execute_result",
          "data": {
            "text/plain": [
              "Matrix([Vector([1, 0, 0, 0]), Vector([0, 1, 0, 0]), Vector([-7, 0, 1, 0]), Vector([0, 0, 0, 1])])"
            ],
            "text/html": [
              "<p style=\"text-align:center;\">$\\left[ \\begin{array}{cccc}1&0&-7&0\\\\0&1&0&0\\\\0&0&1&0\\\\0&0&0&1\\\\ \\end{array} \\right]$</p>"
            ],
            "image/png": "$\\left[ \\begin{array}{cccc}1&0&-7&0\\\\0&1&0&0\\\\0&0&1&0\\\\0&0&0&1\\\\ \\end{array} \\right]$",
            "text/latex": "$\\left[ \\begin{array}{cccc}1&0&-7&0\\\\0&1&0&0\\\\0&0&1&0\\\\0&0&0&1\\\\ \\end{array} \\right]$"
          },
          "metadata": {},
          "execution_count": 16
        }
      ]
    },
    {
      "cell_type": "markdown",
      "source": [
        "$\\left[ \\begin{array}{cccc}1&0&-7&0\\\\0&1&0&0\\\\0&0&1&0\\\\0&0&0&1\\\\ \\end{array} \\right]$"
      ],
      "metadata": {
        "id": "VcUVMXJ1V3QG"
      }
    },
    {
      "cell_type": "markdown",
      "source": [
        "**Para (b)**"
      ],
      "metadata": {
        "id": "t6j95IqlV7um"
      }
    },
    {
      "cell_type": "code",
      "source": [
        "B&T((1,1,4))"
      ],
      "metadata": {
        "colab": {
          "base_uri": "https://localhost:8080/",
          "height": 46
        },
        "id": "ubCgaNm3V-lm",
        "outputId": "f767f0ee-a99d-4347-96d3-f88623118f7e"
      },
      "execution_count": 17,
      "outputs": [
        {
          "output_type": "execute_result",
          "data": {
            "text/plain": [
              "Matrix([Vector([1, 0, 0, 0]), Vector([0, 1, 0, 0]), Vector([-7, 0, 1, 0]), Vector([1, 0, 0, 1])])"
            ],
            "text/html": [
              "<p style=\"text-align:center;\">$\\left[ \\begin{array}{cccc}1&0&-7&1\\\\0&1&0&0\\\\0&0&1&0\\\\0&0&0&1\\\\ \\end{array} \\right]$</p>"
            ],
            "image/png": "$\\left[ \\begin{array}{cccc}1&0&-7&1\\\\0&1&0&0\\\\0&0&1&0\\\\0&0&0&1\\\\ \\end{array} \\right]$",
            "text/latex": "$\\left[ \\begin{array}{cccc}1&0&-7&1\\\\0&1&0&0\\\\0&0&1&0\\\\0&0&0&1\\\\ \\end{array} \\right]$"
          },
          "metadata": {},
          "execution_count": 17
        }
      ]
    },
    {
      "cell_type": "markdown",
      "source": [
        "$\\left[ \\begin{array}{cccc}1&0&-7&1\\\\0&1&0&0\\\\0&0&1&0\\\\0&0&0&1\\\\ \\end{array} \\right]$"
      ],
      "metadata": {
        "id": "yWzbjUGjV_RU"
      }
    },
    {
      "cell_type": "markdown",
      "source": [
        "**Para (c)**"
      ],
      "metadata": {
        "id": "SfBVQIN9WB9D"
      }
    },
    {
      "cell_type": "code",
      "source": [
        "B&T((3,2,1))"
      ],
      "metadata": {
        "colab": {
          "base_uri": "https://localhost:8080/",
          "height": 46
        },
        "id": "KSxPEHRYWFFt",
        "outputId": "c3008a73-fe69-45de-8cd4-809fd5da8786"
      },
      "execution_count": 18,
      "outputs": [
        {
          "output_type": "execute_result",
          "data": {
            "text/plain": [
              "Matrix([Vector([1, 3, 0, 0]), Vector([0, 1, 0, 0]), Vector([-7, 0, 1, 0]), Vector([1, 0, 0, 1])])"
            ],
            "text/html": [
              "<p style=\"text-align:center;\">$\\left[ \\begin{array}{cccc}1&0&-7&1\\\\3&1&0&0\\\\0&0&1&0\\\\0&0&0&1\\\\ \\end{array} \\right]$</p>"
            ],
            "image/png": "$\\left[ \\begin{array}{cccc}1&0&-7&1\\\\3&1&0&0\\\\0&0&1&0\\\\0&0&0&1\\\\ \\end{array} \\right]$",
            "text/latex": "$\\left[ \\begin{array}{cccc}1&0&-7&1\\\\3&1&0&0\\\\0&0&1&0\\\\0&0&0&1\\\\ \\end{array} \\right]$"
          },
          "metadata": {},
          "execution_count": 18
        }
      ]
    },
    {
      "cell_type": "markdown",
      "source": [
        "$\\left[ \\begin{array}{cccc}1&0&-7&1\\\\3&1&0&0\\\\0&0&1&0\\\\0&0&0&1\\\\ \\end{array} \\right]$"
      ],
      "metadata": {
        "id": "PwJ2JTD6WGr-"
      }
    },
    {
      "cell_type": "markdown",
      "source": [
        "**Para (d)**"
      ],
      "metadata": {
        "id": "1EoYtivEXdwY"
      }
    },
    {
      "cell_type": "code",
      "source": [
        "B&T((-10,3))"
      ],
      "metadata": {
        "colab": {
          "base_uri": "https://localhost:8080/",
          "height": 46
        },
        "id": "n0XlXOlgXeYX",
        "outputId": "bde21d97-700b-448a-efa0-f28e95e51e42"
      },
      "execution_count": 19,
      "outputs": [
        {
          "output_type": "execute_result",
          "data": {
            "text/plain": [
              "Matrix([Vector([1, 3, 0, 0]), Vector([0, 1, 0, 0]), Vector([70, 0, -10, 0]), Vector([1, 0, 0, 1])])"
            ],
            "text/html": [
              "<p style=\"text-align:center;\">$\\left[ \\begin{array}{cccc}1&0&70&1\\\\3&1&0&0\\\\0&0&-10&0\\\\0&0&0&1\\\\ \\end{array} \\right]$</p>"
            ],
            "image/png": "$\\left[ \\begin{array}{cccc}1&0&70&1\\\\3&1&0&0\\\\0&0&-10&0\\\\0&0&0&1\\\\ \\end{array} \\right]$",
            "text/latex": "$\\left[ \\begin{array}{cccc}1&0&70&1\\\\3&1&0&0\\\\0&0&-10&0\\\\0&0&0&1\\\\ \\end{array} \\right]$"
          },
          "metadata": {},
          "execution_count": 19
        }
      ]
    },
    {
      "cell_type": "markdown",
      "source": [
        "$\\left[ \\begin{array}{cccc}1&0&70&1\\\\3&1&0&0\\\\0&0&-10&0\\\\0&0&0&1\\\\ \\end{array} \\right]$"
      ],
      "metadata": {
        "id": "DoENRt1aXf-K"
      }
    },
    {
      "cell_type": "markdown",
      "source": [
        "3. Sea la matriz A = $\\left[ \\begin{array}{cccc}1&1&1&1\\\\0&1&1&1\\\\1&2&3&4\\\\4&-4&1&2\\\\ \\end{array} \\right]$\n",
        ", exprese las siguientes transformaciones elementales de\n",
        "\n",
        "A como productos de A por matrices elementales y escriba el resultado:\n",
        "\n",
        "(a) Multiplicar la primera columna por 3. (b) Restar la primera columna de la segunda."
      ],
      "metadata": {
        "id": "tiX68tfPXnv1"
      }
    },
    {
      "cell_type": "code",
      "source": [
        "D = Matrix ([[1,1,1,1],[0,1,1,1],[1,2,3,4],[4,-4,1,2]])\n",
        "D"
      ],
      "metadata": {
        "colab": {
          "base_uri": "https://localhost:8080/",
          "height": 46
        },
        "id": "ro4itiwtXpAV",
        "outputId": "c9e630aa-25d2-452a-a8f0-e102b72e885f"
      },
      "execution_count": 20,
      "outputs": [
        {
          "output_type": "execute_result",
          "data": {
            "text/plain": [
              "Matrix([Vector([1, 0, 1, 4]), Vector([1, 1, 2, -4]), Vector([1, 1, 3, 1]), Vector([1, 1, 4, 2])])"
            ],
            "text/html": [
              "<p style=\"text-align:center;\">$\\left[ \\begin{array}{cccc}1&1&1&1\\\\0&1&1&1\\\\1&2&3&4\\\\4&-4&1&2\\\\ \\end{array} \\right]$</p>"
            ],
            "image/png": "$\\left[ \\begin{array}{cccc}1&1&1&1\\\\0&1&1&1\\\\1&2&3&4\\\\4&-4&1&2\\\\ \\end{array} \\right]$",
            "text/latex": "$\\left[ \\begin{array}{cccc}1&1&1&1\\\\0&1&1&1\\\\1&2&3&4\\\\4&-4&1&2\\\\ \\end{array} \\right]$"
          },
          "metadata": {},
          "execution_count": 20
        }
      ]
    },
    {
      "cell_type": "markdown",
      "source": [
        "$\\left[ \\begin{array}{cccc}1&1&1&1\\\\0&1&1&1\\\\1&2&3&4\\\\4&-4&1&2\\\\ \\end{array} \\right]$"
      ],
      "metadata": {
        "id": "hosVGaISb9zh"
      }
    },
    {
      "cell_type": "markdown",
      "source": [
        "**a) Multiplicar la primera columna por 3.**"
      ],
      "metadata": {
        "id": "m81DKKfocA1r"
      }
    },
    {
      "cell_type": "code",
      "source": [
        "D&T((3,1))"
      ],
      "metadata": {
        "colab": {
          "base_uri": "https://localhost:8080/",
          "height": 46
        },
        "id": "V7UAUV2bcDZ7",
        "outputId": "62652e52-f59f-492a-b981-6ddc073c83ea"
      },
      "execution_count": 21,
      "outputs": [
        {
          "output_type": "execute_result",
          "data": {
            "text/plain": [
              "Matrix([Vector([3, 0, 3, 12]), Vector([1, 1, 2, -4]), Vector([1, 1, 3, 1]), Vector([1, 1, 4, 2])])"
            ],
            "text/html": [
              "<p style=\"text-align:center;\">$\\left[ \\begin{array}{cccc}3&1&1&1\\\\0&1&1&1\\\\3&2&3&4\\\\12&-4&1&2\\\\ \\end{array} \\right]$</p>"
            ],
            "image/png": "$\\left[ \\begin{array}{cccc}3&1&1&1\\\\0&1&1&1\\\\3&2&3&4\\\\12&-4&1&2\\\\ \\end{array} \\right]$",
            "text/latex": "$\\left[ \\begin{array}{cccc}3&1&1&1\\\\0&1&1&1\\\\3&2&3&4\\\\12&-4&1&2\\\\ \\end{array} \\right]$"
          },
          "metadata": {},
          "execution_count": 21
        }
      ]
    },
    {
      "cell_type": "markdown",
      "source": [
        "$\\left[ \\begin{array}{cccc}3&1&1&1\\\\0&1&1&1\\\\3&2&3&4\\\\12&-4&1&2\\\\ \\end{array} \\right]$"
      ],
      "metadata": {
        "id": "b2GZTV1xcFF_"
      }
    },
    {
      "cell_type": "markdown",
      "source": [
        " **(b) Restar la primera columna de la segunda.**"
      ],
      "metadata": {
        "id": "tumB9DRDcGhc"
      }
    },
    {
      "cell_type": "code",
      "source": [
        "D&T((-1,1,2))"
      ],
      "metadata": {
        "colab": {
          "base_uri": "https://localhost:8080/",
          "height": 46
        },
        "id": "GCZT2OaTcIfl",
        "outputId": "87175077-7fa5-4add-861e-85b3066d180f"
      },
      "execution_count": 22,
      "outputs": [
        {
          "output_type": "execute_result",
          "data": {
            "text/plain": [
              "Matrix([Vector([3, 0, 3, 12]), Vector([-2, 1, -1, -16]), Vector([1, 1, 3, 1]), Vector([1, 1, 4, 2])])"
            ],
            "text/html": [
              "<p style=\"text-align:center;\">$\\left[ \\begin{array}{cccc}3&-2&1&1\\\\0&1&1&1\\\\3&-1&3&4\\\\12&-16&1&2\\\\ \\end{array} \\right]$</p>"
            ],
            "image/png": "$\\left[ \\begin{array}{cccc}3&-2&1&1\\\\0&1&1&1\\\\3&-1&3&4\\\\12&-16&1&2\\\\ \\end{array} \\right]$",
            "text/latex": "$\\left[ \\begin{array}{cccc}3&-2&1&1\\\\0&1&1&1\\\\3&-1&3&4\\\\12&-16&1&2\\\\ \\end{array} \\right]$"
          },
          "metadata": {},
          "execution_count": 22
        }
      ]
    },
    {
      "cell_type": "markdown",
      "source": [
        "$\\left[ \\begin{array}{cccc}3&-2&1&1\\\\0&1&1&1\\\\3&-1&3&4\\\\12&-16&1&2\\\\ \\end{array} \\right]$"
      ],
      "metadata": {
        "id": "g4BWSOhMcJYn"
      }
    },
    {
      "cell_type": "markdown",
      "source": [
        "4. Realiza el algoritmo de eliminación de Gauss-Jordan para la matriz del ejercicio 1, es decir continua las modificaciones de la matriz mediante operaciones elementales.\n",
        "Por cada paso del algoritmo escribe la celda de código correspondiente."
      ],
      "metadata": {
        "id": "DOL9yObqcV_m"
      }
    },
    {
      "cell_type": "markdown",
      "source": [
        "$\\left[ \\begin{array}{cccc}1&3&- \\frac{1}{6}&\\frac{5}{6}\\\\0&1&- \\frac{5}{6}&\\frac{1}{6}\\\\0&0&1&0\\\\0&0&0&1\\\\ \\end{array} \\right]$"
      ],
      "metadata": {
        "id": "Q4b2G0zXdXXB"
      }
    },
    {
      "cell_type": "code",
      "source": [
        "T((-3,2,1))&A"
      ],
      "metadata": {
        "colab": {
          "base_uri": "https://localhost:8080/",
          "height": 46
        },
        "id": "wK8-VIpDdQ1A",
        "outputId": "3c7c220d-1635-406c-cf60-cb8ec6e98840"
      },
      "execution_count": 23,
      "outputs": [
        {
          "output_type": "execute_result",
          "data": {
            "text/plain": [
              "Matrix([Vector([1, 0, 0, 0]), Vector([0, 1, 0, 0]), Vector([7/3, -5/6, 1, 0]), Vector([1/3, 1/6, 0, 1])])"
            ],
            "text/html": [
              "<p style=\"text-align:center;\">$\\left[ \\begin{array}{cccc}1&0&\\frac{7}{3}&\\frac{1}{3}\\\\0&1&- \\frac{5}{6}&\\frac{1}{6}\\\\0&0&1&0\\\\0&0&0&1\\\\ \\end{array} \\right]$</p>"
            ],
            "image/png": "$\\left[ \\begin{array}{cccc}1&0&\\frac{7}{3}&\\frac{1}{3}\\\\0&1&- \\frac{5}{6}&\\frac{1}{6}\\\\0&0&1&0\\\\0&0&0&1\\\\ \\end{array} \\right]$",
            "text/latex": "$\\left[ \\begin{array}{cccc}1&0&\\frac{7}{3}&\\frac{1}{3}\\\\0&1&- \\frac{5}{6}&\\frac{1}{6}\\\\0&0&1&0\\\\0&0&0&1\\\\ \\end{array} \\right]$"
          },
          "metadata": {},
          "execution_count": 23
        }
      ]
    },
    {
      "cell_type": "markdown",
      "source": [
        "$\\left[ \\begin{array}{cccc}1&0&\\frac{7}{3}&\\frac{1}{3}\\\\0&1&- \\frac{5}{6}&\\frac{1}{6}\\\\0&0&1&0\\\\0&0&0&1\\\\ \\end{array} \\right]$"
      ],
      "metadata": {
        "id": "a_XQcvMDdOVG"
      }
    },
    {
      "cell_type": "code",
      "source": [
        "T((fracc(-7,3),3,1))&A"
      ],
      "metadata": {
        "colab": {
          "base_uri": "https://localhost:8080/",
          "height": 46
        },
        "id": "1WXm6VbyeSNU",
        "outputId": "f3246fa1-5472-4148-ec3d-5f93d3dc6957"
      },
      "execution_count": 24,
      "outputs": [
        {
          "output_type": "execute_result",
          "data": {
            "text/plain": [
              "Matrix([Vector([1, 0, 0, 0]), Vector([0, 1, 0, 0]), Vector([0, -5/6, 1, 0]), Vector([1/3, 1/6, 0, 1])])"
            ],
            "text/html": [
              "<p style=\"text-align:center;\">$\\left[ \\begin{array}{cccc}1&0&0&\\frac{1}{3}\\\\0&1&- \\frac{5}{6}&\\frac{1}{6}\\\\0&0&1&0\\\\0&0&0&1\\\\ \\end{array} \\right]$</p>"
            ],
            "image/png": "$\\left[ \\begin{array}{cccc}1&0&0&\\frac{1}{3}\\\\0&1&- \\frac{5}{6}&\\frac{1}{6}\\\\0&0&1&0\\\\0&0&0&1\\\\ \\end{array} \\right]$",
            "text/latex": "$\\left[ \\begin{array}{cccc}1&0&0&\\frac{1}{3}\\\\0&1&- \\frac{5}{6}&\\frac{1}{6}\\\\0&0&1&0\\\\0&0&0&1\\\\ \\end{array} \\right]$"
          },
          "metadata": {},
          "execution_count": 24
        }
      ]
    },
    {
      "cell_type": "markdown",
      "source": [
        "$\\left[ \\begin{array}{cccc}1&0&0&\\frac{1}{3}\\\\0&1&- \\frac{5}{6}&\\frac{1}{6}\\\\0&0&1&0\\\\0&0&0&1\\\\ \\end{array} \\right]$"
      ],
      "metadata": {
        "id": "1IvEhKfseTYF"
      }
    },
    {
      "cell_type": "code",
      "source": [
        "T((fracc(5,6),3,2))&A"
      ],
      "metadata": {
        "colab": {
          "base_uri": "https://localhost:8080/",
          "height": 46
        },
        "id": "rCO5zagJeTyd",
        "outputId": "68c9a48c-88be-42d8-c373-8482e0633879"
      },
      "execution_count": 25,
      "outputs": [
        {
          "output_type": "execute_result",
          "data": {
            "text/plain": [
              "Matrix([Vector([1, 0, 0, 0]), Vector([0, 1, 0, 0]), Vector([0, 0, 1, 0]), Vector([1/3, 1/6, 0, 1])])"
            ],
            "text/html": [
              "<p style=\"text-align:center;\">$\\left[ \\begin{array}{cccc}1&0&0&\\frac{1}{3}\\\\0&1&0&\\frac{1}{6}\\\\0&0&1&0\\\\0&0&0&1\\\\ \\end{array} \\right]$</p>"
            ],
            "image/png": "$\\left[ \\begin{array}{cccc}1&0&0&\\frac{1}{3}\\\\0&1&0&\\frac{1}{6}\\\\0&0&1&0\\\\0&0&0&1\\\\ \\end{array} \\right]$",
            "text/latex": "$\\left[ \\begin{array}{cccc}1&0&0&\\frac{1}{3}\\\\0&1&0&\\frac{1}{6}\\\\0&0&1&0\\\\0&0&0&1\\\\ \\end{array} \\right]$"
          },
          "metadata": {},
          "execution_count": 25
        }
      ]
    },
    {
      "cell_type": "markdown",
      "source": [
        "$\\left[ \\begin{array}{cccc}1&0&0&\\frac{1}{3}\\\\0&1&0&\\frac{1}{6}\\\\0&0&1&0\\\\0&0&0&1\\\\ \\end{array} \\right]$"
      ],
      "metadata": {
        "id": "tgTTIUs8eViE"
      }
    },
    {
      "cell_type": "markdown",
      "source": [
        "7. Encuentra la inversa de la matriz del ejercicio 1."
      ],
      "metadata": {
        "id": "qOnJqMJp_dZY"
      }
    },
    {
      "cell_type": "code",
      "source": [
        "a= Vector((3,1,2,4,1,0,0,0)); b=Vector((-2,-1,1,-4,0,1,0,0)); c= Vector((2,-1,2,1,0,0,1,0)); d=Vector((1,-3,4,2,0,0,0,1))\n",
        "Z= Matrix([a,b,c,d])\n",
        "Z"
      ],
      "metadata": {
        "colab": {
          "base_uri": "https://localhost:8080/",
          "height": 46
        },
        "id": "_OttQy64_Ha0",
        "outputId": "97aa10b0-99b4-4953-8c32-522ff45ef92e"
      },
      "execution_count": null,
      "outputs": [
        {
          "output_type": "execute_result",
          "data": {
            "text/plain": [
              "Matrix([Vector([3, 1, 2, 4, 1, 0, 0, 0]), Vector([-2, -1, 1, -4, 0, 1, 0, 0]), Vector([2, -1, 2, 1, 0, 0, 1, 0]), Vector([1, -3, 4, 2, 0, 0, 0, 1])])"
            ],
            "text/html": [
              "<p style=\"text-align:center;\">$\\left[ \\begin{array}{cccc}3&-2&2&1\\\\1&-1&-1&-3\\\\2&1&2&4\\\\4&-4&1&2\\\\1&0&0&0\\\\0&1&0&0\\\\0&0&1&0\\\\0&0&0&1\\\\ \\end{array} \\right]$</p>"
            ],
            "image/png": "$\\left[ \\begin{array}{cccc}3&-2&2&1\\\\1&-1&-1&-3\\\\2&1&2&4\\\\4&-4&1&2\\\\1&0&0&0\\\\0&1&0&0\\\\0&0&1&0\\\\0&0&0&1\\\\ \\end{array} \\right]$",
            "text/latex": "$\\left[ \\begin{array}{cccc}3&-2&2&1\\\\1&-1&-1&-3\\\\2&1&2&4\\\\4&-4&1&2\\\\1&0&0&0\\\\0&1&0&0\\\\0&0&1&0\\\\0&0&0&1\\\\ \\end{array} \\right]$"
          },
          "metadata": {},
          "execution_count": 18
        }
      ]
    },
    {
      "cell_type": "markdown",
      "source": [
        "$\\left[ \\begin{array}{cccc}3&-2&2&1\\\\1&-1&-1&-3\\\\2&1&2&4\\\\4&-4&1&2\\\\1&0&0&0\\\\0&1&0&0\\\\0&0&1&0\\\\0&0&0&1\\\\ \\end{array} \\right]$"
      ],
      "metadata": {
        "id": "rDDoKGbG_jOR"
      }
    },
    {
      "cell_type": "code",
      "source": [
        "Z&T((2,4,2))"
      ],
      "metadata": {
        "colab": {
          "base_uri": "https://localhost:8080/",
          "height": 46
        },
        "id": "6Y6AmhHQ_j-N",
        "outputId": "8e1e1d56-132a-43a7-dbb2-120dfc10a148"
      },
      "execution_count": null,
      "outputs": [
        {
          "output_type": "execute_result",
          "data": {
            "text/plain": [
              "Matrix([Vector([3, 1, 2, 4, 1, 0, 0, 0]), Vector([0, -7, 9, 0, 0, 1, 0, 2]), Vector([2, -1, 2, 1, 0, 0, 1, 0]), Vector([1, -3, 4, 2, 0, 0, 0, 1])])"
            ],
            "text/html": [
              "<p style=\"text-align:center;\">$\\left[ \\begin{array}{cccc}3&0&2&1\\\\1&-7&-1&-3\\\\2&9&2&4\\\\4&0&1&2\\\\1&0&0&0\\\\0&1&0&0\\\\0&0&1&0\\\\0&2&0&1\\\\ \\end{array} \\right]$</p>"
            ],
            "image/png": "$\\left[ \\begin{array}{cccc}3&0&2&1\\\\1&-7&-1&-3\\\\2&9&2&4\\\\4&0&1&2\\\\1&0&0&0\\\\0&1&0&0\\\\0&0&1&0\\\\0&2&0&1\\\\ \\end{array} \\right]$",
            "text/latex": "$\\left[ \\begin{array}{cccc}3&0&2&1\\\\1&-7&-1&-3\\\\2&9&2&4\\\\4&0&1&2\\\\1&0&0&0\\\\0&1&0&0\\\\0&0&1&0\\\\0&2&0&1\\\\ \\end{array} \\right]$"
          },
          "metadata": {},
          "execution_count": 19
        }
      ]
    },
    {
      "cell_type": "markdown",
      "source": [
        "$\\left[ \\begin{array}{cccc}3&0&2&1\\\\1&-7&-1&-3\\\\2&9&2&4\\\\4&0&1&2\\\\1&0&0&0\\\\0&1&0&0\\\\0&0&1&0\\\\0&2&0&1\\\\ \\end{array} \\right]$"
      ],
      "metadata": {
        "id": "y8cEfprB_mm5"
      }
    },
    {
      "cell_type": "code",
      "source": [
        "Z&T((-2,4,3))"
      ],
      "metadata": {
        "colab": {
          "base_uri": "https://localhost:8080/",
          "height": 46
        },
        "id": "rk6Xs_7W_m_q",
        "outputId": "1c6e88c1-b413-4b00-de9a-317faff17b29"
      },
      "execution_count": null,
      "outputs": [
        {
          "output_type": "execute_result",
          "data": {
            "text/plain": [
              "Matrix([Vector([3, 1, 2, 4, 1, 0, 0, 0]), Vector([0, -7, 9, 0, 0, 1, 0, 2]), Vector([0, 5, -6, -3, 0, 0, 1, -2]), Vector([1, -3, 4, 2, 0, 0, 0, 1])])"
            ],
            "text/html": [
              "<p style=\"text-align:center;\">$\\left[ \\begin{array}{cccc}3&0&0&1\\\\1&-7&5&-3\\\\2&9&-6&4\\\\4&0&-3&2\\\\1&0&0&0\\\\0&1&0&0\\\\0&0&1&0\\\\0&2&-2&1\\\\ \\end{array} \\right]$</p>"
            ],
            "image/png": "$\\left[ \\begin{array}{cccc}3&0&0&1\\\\1&-7&5&-3\\\\2&9&-6&4\\\\4&0&-3&2\\\\1&0&0&0\\\\0&1&0&0\\\\0&0&1&0\\\\0&2&-2&1\\\\ \\end{array} \\right]$",
            "text/latex": "$\\left[ \\begin{array}{cccc}3&0&0&1\\\\1&-7&5&-3\\\\2&9&-6&4\\\\4&0&-3&2\\\\1&0&0&0\\\\0&1&0&0\\\\0&0&1&0\\\\0&2&-2&1\\\\ \\end{array} \\right]$"
          },
          "metadata": {},
          "execution_count": 20
        }
      ]
    },
    {
      "cell_type": "markdown",
      "source": [
        "$\\left[ \\begin{array}{cccc}3&0&0&1\\\\1&-7&5&-3\\\\2&9&-6&4\\\\4&0&-3&2\\\\1&0&0&0\\\\0&1&0&0\\\\0&0&1&0\\\\0&2&-2&1\\\\ \\end{array} \\right]$"
      ],
      "metadata": {
        "id": "Ocg7Td4N_oEL"
      }
    },
    {
      "cell_type": "code",
      "source": [
        "Z&T((fracc(1,3),1))"
      ],
      "metadata": {
        "colab": {
          "base_uri": "https://localhost:8080/",
          "height": 46
        },
        "id": "7KcaO7XoAAUS",
        "outputId": "b738fc38-af17-4094-bd1e-b7ed1c18f83c"
      },
      "execution_count": null,
      "outputs": [
        {
          "output_type": "execute_result",
          "data": {
            "text/plain": [
              "Matrix([Vector([1, 1/3, 2/3, 4/3, 1/3, 0, 0, 0]), Vector([0, -7, 9, 0, 0, 1, 0, 2]), Vector([0, 5, -6, -3, 0, 0, 1, -2]), Vector([1, -3, 4, 2, 0, 0, 0, 1])])"
            ],
            "text/html": [
              "<p style=\"text-align:center;\">$\\left[ \\begin{array}{cccc}1&0&0&1\\\\\\frac{1}{3}&-7&5&-3\\\\\\frac{2}{3}&9&-6&4\\\\\\frac{4}{3}&0&-3&2\\\\\\frac{1}{3}&0&0&0\\\\0&1&0&0\\\\0&0&1&0\\\\0&2&-2&1\\\\ \\end{array} \\right]$</p>"
            ],
            "image/png": "$\\left[ \\begin{array}{cccc}1&0&0&1\\\\\\frac{1}{3}&-7&5&-3\\\\\\frac{2}{3}&9&-6&4\\\\\\frac{4}{3}&0&-3&2\\\\\\frac{1}{3}&0&0&0\\\\0&1&0&0\\\\0&0&1&0\\\\0&2&-2&1\\\\ \\end{array} \\right]$",
            "text/latex": "$\\left[ \\begin{array}{cccc}1&0&0&1\\\\\\frac{1}{3}&-7&5&-3\\\\\\frac{2}{3}&9&-6&4\\\\\\frac{4}{3}&0&-3&2\\\\\\frac{1}{3}&0&0&0\\\\0&1&0&0\\\\0&0&1&0\\\\0&2&-2&1\\\\ \\end{array} \\right]$"
          },
          "metadata": {},
          "execution_count": 21
        }
      ]
    },
    {
      "cell_type": "markdown",
      "source": [
        "$\\left[ \\begin{array}{cccc}1&0&0&1\\\\\\frac{1}{3}&-7&5&-3\\\\\\frac{2}{3}&9&-6&4\\\\\\frac{4}{3}&0&-3&2\\\\\\frac{1}{3}&0&0&0\\\\0&1&0&0\\\\0&0&1&0\\\\0&2&-2&1\\\\ \\end{array} \\right]$"
      ],
      "metadata": {
        "id": "ep-Fq-YaABXW"
      }
    },
    {
      "cell_type": "code",
      "source": [
        "Z&T((-1,1,4))"
      ],
      "metadata": {
        "colab": {
          "base_uri": "https://localhost:8080/",
          "height": 46
        },
        "id": "rDHdhQqdADNv",
        "outputId": "0d7c7460-a195-4fd2-bac3-1d17cce602a5"
      },
      "execution_count": null,
      "outputs": [
        {
          "output_type": "execute_result",
          "data": {
            "text/plain": [
              "Matrix([Vector([1, 1/3, 2/3, 4/3, 1/3, 0, 0, 0]), Vector([0, -7, 9, 0, 0, 1, 0, 2]), Vector([0, 5, -6, -3, 0, 0, 1, -2]), Vector([0, -10/3, 10/3, 2/3, -1/3, 0, 0, 1])])"
            ],
            "text/html": [
              "<p style=\"text-align:center;\">$\\left[ \\begin{array}{cccc}1&0&0&0\\\\\\frac{1}{3}&-7&5&- \\frac{10}{3}\\\\\\frac{2}{3}&9&-6&\\frac{10}{3}\\\\\\frac{4}{3}&0&-3&\\frac{2}{3}\\\\\\frac{1}{3}&0&0&- \\frac{1}{3}\\\\0&1&0&0\\\\0&0&1&0\\\\0&2&-2&1\\\\ \\end{array} \\right]$</p>"
            ],
            "image/png": "$\\left[ \\begin{array}{cccc}1&0&0&0\\\\\\frac{1}{3}&-7&5&- \\frac{10}{3}\\\\\\frac{2}{3}&9&-6&\\frac{10}{3}\\\\\\frac{4}{3}&0&-3&\\frac{2}{3}\\\\\\frac{1}{3}&0&0&- \\frac{1}{3}\\\\0&1&0&0\\\\0&0&1&0\\\\0&2&-2&1\\\\ \\end{array} \\right]$",
            "text/latex": "$\\left[ \\begin{array}{cccc}1&0&0&0\\\\\\frac{1}{3}&-7&5&- \\frac{10}{3}\\\\\\frac{2}{3}&9&-6&\\frac{10}{3}\\\\\\frac{4}{3}&0&-3&\\frac{2}{3}\\\\\\frac{1}{3}&0&0&- \\frac{1}{3}\\\\0&1&0&0\\\\0&0&1&0\\\\0&2&-2&1\\\\ \\end{array} \\right]$"
          },
          "metadata": {},
          "execution_count": 22
        }
      ]
    },
    {
      "cell_type": "markdown",
      "source": [
        "$\\left[ \\begin{array}{cccc}1&0&0&0\\\\\\frac{1}{3}&-7&5&- \\frac{10}{3}\\\\\\frac{2}{3}&9&-6&\\frac{10}{3}\\\\\\frac{4}{3}&0&-3&\\frac{2}{3}\\\\\\frac{1}{3}&0&0&- \\frac{1}{3}\\\\0&1&0&0\\\\0&0&1&0\\\\0&2&-2&1\\\\ \\end{array} \\right]$"
      ],
      "metadata": {
        "id": "6JOPBOEMAEXv"
      }
    },
    {
      "cell_type": "code",
      "source": [
        "Z&T((fracc(-3,10),4))"
      ],
      "metadata": {
        "colab": {
          "base_uri": "https://localhost:8080/",
          "height": 46
        },
        "id": "XifEoSoFAGlE",
        "outputId": "9557aa8b-6ff6-4adb-cc1a-559299ea787b"
      },
      "execution_count": null,
      "outputs": [
        {
          "output_type": "execute_result",
          "data": {
            "text/plain": [
              "Matrix([Vector([1, 1/3, 2/3, 4/3, 1/3, 0, 0, 0]), Vector([0, -7, 9, 0, 0, 1, 0, 2]), Vector([0, 5, -6, -3, 0, 0, 1, -2]), Vector([0, 1, -1, -1/5, 1/10, 0, 0, -3/10])])"
            ],
            "text/html": [
              "<p style=\"text-align:center;\">$\\left[ \\begin{array}{cccc}1&0&0&0\\\\\\frac{1}{3}&-7&5&1\\\\\\frac{2}{3}&9&-6&-1\\\\\\frac{4}{3}&0&-3&- \\frac{1}{5}\\\\\\frac{1}{3}&0&0&\\frac{1}{10}\\\\0&1&0&0\\\\0&0&1&0\\\\0&2&-2&- \\frac{3}{10}\\\\ \\end{array} \\right]$</p>"
            ],
            "image/png": "$\\left[ \\begin{array}{cccc}1&0&0&0\\\\\\frac{1}{3}&-7&5&1\\\\\\frac{2}{3}&9&-6&-1\\\\\\frac{4}{3}&0&-3&- \\frac{1}{5}\\\\\\frac{1}{3}&0&0&\\frac{1}{10}\\\\0&1&0&0\\\\0&0&1&0\\\\0&2&-2&- \\frac{3}{10}\\\\ \\end{array} \\right]$",
            "text/latex": "$\\left[ \\begin{array}{cccc}1&0&0&0\\\\\\frac{1}{3}&-7&5&1\\\\\\frac{2}{3}&9&-6&-1\\\\\\frac{4}{3}&0&-3&- \\frac{1}{5}\\\\\\frac{1}{3}&0&0&\\frac{1}{10}\\\\0&1&0&0\\\\0&0&1&0\\\\0&2&-2&- \\frac{3}{10}\\\\ \\end{array} \\right]$"
          },
          "metadata": {},
          "execution_count": 23
        }
      ]
    },
    {
      "cell_type": "markdown",
      "source": [
        "$\\left[ \\begin{array}{cccc}1&0&0&0\\\\\\frac{1}{3}&-7&5&1\\\\\\frac{2}{3}&9&-6&-1\\\\\\frac{4}{3}&0&-3&- \\frac{1}{5}\\\\\\frac{1}{3}&0&0&\\frac{1}{10}\\\\0&1&0&0\\\\0&0&1&0\\\\0&2&-2&- \\frac{3}{10}\\\\ \\end{array} \\right]$"
      ],
      "metadata": {
        "id": "FWWE9JdYAGs3"
      }
    },
    {
      "cell_type": "code",
      "source": [
        "Z&T((-5,4,3))"
      ],
      "metadata": {
        "colab": {
          "base_uri": "https://localhost:8080/",
          "height": 46
        },
        "id": "CwIoKW_aAKOu",
        "outputId": "53ceccec-05eb-49c9-ea28-ec76db60dff7"
      },
      "execution_count": null,
      "outputs": [
        {
          "output_type": "execute_result",
          "data": {
            "text/plain": [
              "Matrix([Vector([1, 1/3, 2/3, 4/3, 1/3, 0, 0, 0]), Vector([0, -7, 9, 0, 0, 1, 0, 2]), Vector([0, 0, -1, -2, -1/2, 0, 1, -1/2]), Vector([0, 1, -1, -1/5, 1/10, 0, 0, -3/10])])"
            ],
            "text/html": [
              "<p style=\"text-align:center;\">$\\left[ \\begin{array}{cccc}1&0&0&0\\\\\\frac{1}{3}&-7&0&1\\\\\\frac{2}{3}&9&-1&-1\\\\\\frac{4}{3}&0&-2&- \\frac{1}{5}\\\\\\frac{1}{3}&0&- \\frac{1}{2}&\\frac{1}{10}\\\\0&1&0&0\\\\0&0&1&0\\\\0&2&- \\frac{1}{2}&- \\frac{3}{10}\\\\ \\end{array} \\right]$</p>"
            ],
            "image/png": "$\\left[ \\begin{array}{cccc}1&0&0&0\\\\\\frac{1}{3}&-7&0&1\\\\\\frac{2}{3}&9&-1&-1\\\\\\frac{4}{3}&0&-2&- \\frac{1}{5}\\\\\\frac{1}{3}&0&- \\frac{1}{2}&\\frac{1}{10}\\\\0&1&0&0\\\\0&0&1&0\\\\0&2&- \\frac{1}{2}&- \\frac{3}{10}\\\\ \\end{array} \\right]$",
            "text/latex": "$\\left[ \\begin{array}{cccc}1&0&0&0\\\\\\frac{1}{3}&-7&0&1\\\\\\frac{2}{3}&9&-1&-1\\\\\\frac{4}{3}&0&-2&- \\frac{1}{5}\\\\\\frac{1}{3}&0&- \\frac{1}{2}&\\frac{1}{10}\\\\0&1&0&0\\\\0&0&1&0\\\\0&2&- \\frac{1}{2}&- \\frac{3}{10}\\\\ \\end{array} \\right]$"
          },
          "metadata": {},
          "execution_count": 24
        }
      ]
    },
    {
      "cell_type": "markdown",
      "source": [
        "$\\left[ \\begin{array}{cccc}1&0&0&0\\\\\\frac{1}{3}&-7&0&1\\\\\\frac{2}{3}&9&-1&-1\\\\\\frac{4}{3}&0&-2&- \\frac{1}{5}\\\\\\frac{1}{3}&0&- \\frac{1}{2}&\\frac{1}{10}\\\\0&1&0&0\\\\0&0&1&0\\\\0&2&- \\frac{1}{2}&- \\frac{3}{10}\\\\ \\end{array} \\right]$"
      ],
      "metadata": {
        "id": "R-8IWW0FAKSi"
      }
    },
    {
      "cell_type": "code",
      "source": [
        "Z&T((fracc(-1,3),4,1))"
      ],
      "metadata": {
        "colab": {
          "base_uri": "https://localhost:8080/",
          "height": 46
        },
        "id": "eh2rNUCCAOlm",
        "outputId": "236280ca-b0b5-4cc2-a4d8-6d04cbf04da7"
      },
      "execution_count": null,
      "outputs": [
        {
          "output_type": "execute_result",
          "data": {
            "text/plain": [
              "Matrix([Vector([1, 0, 1, 7/5, 3/10, 0, 0, 1/10]), Vector([0, -7, 9, 0, 0, 1, 0, 2]), Vector([0, 0, -1, -2, -1/2, 0, 1, -1/2]), Vector([0, 1, -1, -1/5, 1/10, 0, 0, -3/10])])"
            ],
            "text/html": [
              "<p style=\"text-align:center;\">$\\left[ \\begin{array}{cccc}1&0&0&0\\\\0&-7&0&1\\\\1&9&-1&-1\\\\\\frac{7}{5}&0&-2&- \\frac{1}{5}\\\\\\frac{3}{10}&0&- \\frac{1}{2}&\\frac{1}{10}\\\\0&1&0&0\\\\0&0&1&0\\\\\\frac{1}{10}&2&- \\frac{1}{2}&- \\frac{3}{10}\\\\ \\end{array} \\right]$</p>"
            ],
            "image/png": "$\\left[ \\begin{array}{cccc}1&0&0&0\\\\0&-7&0&1\\\\1&9&-1&-1\\\\\\frac{7}{5}&0&-2&- \\frac{1}{5}\\\\\\frac{3}{10}&0&- \\frac{1}{2}&\\frac{1}{10}\\\\0&1&0&0\\\\0&0&1&0\\\\\\frac{1}{10}&2&- \\frac{1}{2}&- \\frac{3}{10}\\\\ \\end{array} \\right]$",
            "text/latex": "$\\left[ \\begin{array}{cccc}1&0&0&0\\\\0&-7&0&1\\\\1&9&-1&-1\\\\\\frac{7}{5}&0&-2&- \\frac{1}{5}\\\\\\frac{3}{10}&0&- \\frac{1}{2}&\\frac{1}{10}\\\\0&1&0&0\\\\0&0&1&0\\\\\\frac{1}{10}&2&- \\frac{1}{2}&- \\frac{3}{10}\\\\ \\end{array} \\right]$"
          },
          "metadata": {},
          "execution_count": 25
        }
      ]
    },
    {
      "cell_type": "markdown",
      "source": [
        "$\\left[ \\begin{array}{cccc}1&0&0&0\\\\0&-7&0&1\\\\1&9&-1&-1\\\\\\frac{7}{5}&0&-2&- \\frac{1}{5}\\\\\\frac{3}{10}&0&- \\frac{1}{2}&\\frac{1}{10}\\\\0&1&0&0\\\\0&0&1&0\\\\\\frac{1}{10}&2&- \\frac{1}{2}&- \\frac{3}{10}\\\\ \\end{array} \\right]$"
      ],
      "metadata": {
        "id": "HZakK2DGAOp-"
      }
    },
    {
      "cell_type": "code",
      "source": [
        "Z&T((fracc(-1,7),2))"
      ],
      "metadata": {
        "colab": {
          "base_uri": "https://localhost:8080/",
          "height": 46
        },
        "id": "8cuUnzIOAS6D",
        "outputId": "118d93b6-48f0-4ed7-aba0-ae1b19cb399c"
      },
      "execution_count": null,
      "outputs": [
        {
          "output_type": "execute_result",
          "data": {
            "text/plain": [
              "Matrix([Vector([1, 0, 1, 7/5, 3/10, 0, 0, 1/10]), Vector([0, 1, -9/7, 0, 0, -1/7, 0, -2/7]), Vector([0, 0, -1, -2, -1/2, 0, 1, -1/2]), Vector([0, 1, -1, -1/5, 1/10, 0, 0, -3/10])])"
            ],
            "text/html": [
              "<p style=\"text-align:center;\">$\\left[ \\begin{array}{cccc}1&0&0&0\\\\0&1&0&1\\\\1&- \\frac{9}{7}&-1&-1\\\\\\frac{7}{5}&0&-2&- \\frac{1}{5}\\\\\\frac{3}{10}&0&- \\frac{1}{2}&\\frac{1}{10}\\\\0&- \\frac{1}{7}&0&0\\\\0&0&1&0\\\\\\frac{1}{10}&- \\frac{2}{7}&- \\frac{1}{2}&- \\frac{3}{10}\\\\ \\end{array} \\right]$</p>"
            ],
            "image/png": "$\\left[ \\begin{array}{cccc}1&0&0&0\\\\0&1&0&1\\\\1&- \\frac{9}{7}&-1&-1\\\\\\frac{7}{5}&0&-2&- \\frac{1}{5}\\\\\\frac{3}{10}&0&- \\frac{1}{2}&\\frac{1}{10}\\\\0&- \\frac{1}{7}&0&0\\\\0&0&1&0\\\\\\frac{1}{10}&- \\frac{2}{7}&- \\frac{1}{2}&- \\frac{3}{10}\\\\ \\end{array} \\right]$",
            "text/latex": "$\\left[ \\begin{array}{cccc}1&0&0&0\\\\0&1&0&1\\\\1&- \\frac{9}{7}&-1&-1\\\\\\frac{7}{5}&0&-2&- \\frac{1}{5}\\\\\\frac{3}{10}&0&- \\frac{1}{2}&\\frac{1}{10}\\\\0&- \\frac{1}{7}&0&0\\\\0&0&1&0\\\\\\frac{1}{10}&- \\frac{2}{7}&- \\frac{1}{2}&- \\frac{3}{10}\\\\ \\end{array} \\right]$"
          },
          "metadata": {},
          "execution_count": 26
        }
      ]
    },
    {
      "cell_type": "markdown",
      "source": [
        "$\\left[ \\begin{array}{cccc}1&0&0&0\\\\0&1&0&1\\\\1&- \\frac{9}{7}&-1&-1\\\\\\frac{7}{5}&0&-2&- \\frac{1}{5}\\\\\\frac{3}{10}&0&- \\frac{1}{2}&\\frac{1}{10}\\\\0&- \\frac{1}{7}&0&0\\\\0&0&1&0\\\\\\frac{1}{10}&- \\frac{2}{7}&- \\frac{1}{2}&- \\frac{3}{10}\\\\ \\end{array} \\right]$"
      ],
      "metadata": {
        "id": "fLBsOmfeAS9i"
      }
    },
    {
      "cell_type": "code",
      "source": [
        "Z&T((-1,2,4))"
      ],
      "metadata": {
        "colab": {
          "base_uri": "https://localhost:8080/",
          "height": 46
        },
        "id": "pDpsLfr2AV3W",
        "outputId": "9cc917f0-6b43-4ac6-d1d9-c32f92b14283"
      },
      "execution_count": null,
      "outputs": [
        {
          "output_type": "execute_result",
          "data": {
            "text/plain": [
              "Matrix([Vector([1, 0, 1, 7/5, 3/10, 0, 0, 1/10]), Vector([0, 1, -9/7, 0, 0, -1/7, 0, -2/7]), Vector([0, 0, -1, -2, -1/2, 0, 1, -1/2]), Vector([0, 0, 2/7, -1/5, 1/10, 1/7, 0, -1/70])])"
            ],
            "text/html": [
              "<p style=\"text-align:center;\">$\\left[ \\begin{array}{cccc}1&0&0&0\\\\0&1&0&0\\\\1&- \\frac{9}{7}&-1&\\frac{2}{7}\\\\\\frac{7}{5}&0&-2&- \\frac{1}{5}\\\\\\frac{3}{10}&0&- \\frac{1}{2}&\\frac{1}{10}\\\\0&- \\frac{1}{7}&0&\\frac{1}{7}\\\\0&0&1&0\\\\\\frac{1}{10}&- \\frac{2}{7}&- \\frac{1}{2}&- \\frac{1}{70}\\\\ \\end{array} \\right]$</p>"
            ],
            "image/png": "$\\left[ \\begin{array}{cccc}1&0&0&0\\\\0&1&0&0\\\\1&- \\frac{9}{7}&-1&\\frac{2}{7}\\\\\\frac{7}{5}&0&-2&- \\frac{1}{5}\\\\\\frac{3}{10}&0&- \\frac{1}{2}&\\frac{1}{10}\\\\0&- \\frac{1}{7}&0&\\frac{1}{7}\\\\0&0&1&0\\\\\\frac{1}{10}&- \\frac{2}{7}&- \\frac{1}{2}&- \\frac{1}{70}\\\\ \\end{array} \\right]$",
            "text/latex": "$\\left[ \\begin{array}{cccc}1&0&0&0\\\\0&1&0&0\\\\1&- \\frac{9}{7}&-1&\\frac{2}{7}\\\\\\frac{7}{5}&0&-2&- \\frac{1}{5}\\\\\\frac{3}{10}&0&- \\frac{1}{2}&\\frac{1}{10}\\\\0&- \\frac{1}{7}&0&\\frac{1}{7}\\\\0&0&1&0\\\\\\frac{1}{10}&- \\frac{2}{7}&- \\frac{1}{2}&- \\frac{1}{70}\\\\ \\end{array} \\right]$"
          },
          "metadata": {},
          "execution_count": 27
        }
      ]
    },
    {
      "cell_type": "markdown",
      "source": [
        "$\\left[ \\begin{array}{cccc}1&0&0&0\\\\0&1&0&0\\\\1&- \\frac{9}{7}&-1&\\frac{2}{7}\\\\\\frac{7}{5}&0&-2&- \\frac{1}{5}\\\\\\frac{3}{10}&0&- \\frac{1}{2}&\\frac{1}{10}\\\\0&- \\frac{1}{7}&0&\\frac{1}{7}\\\\0&0&1&0\\\\\\frac{1}{10}&- \\frac{2}{7}&- \\frac{1}{2}&- \\frac{1}{70}\\\\ \\end{array} \\right]$"
      ],
      "metadata": {
        "id": "67QXWe0uAWC_"
      }
    },
    {
      "cell_type": "code",
      "source": [
        "Z&T((fracc(-1,1),3))"
      ],
      "metadata": {
        "colab": {
          "base_uri": "https://localhost:8080/",
          "height": 46
        },
        "id": "Z4DfuL4pAZHj",
        "outputId": "fbcde2ae-327e-4c50-ec0e-26b947babfb1"
      },
      "execution_count": null,
      "outputs": [
        {
          "output_type": "execute_result",
          "data": {
            "text/plain": [
              "Matrix([Vector([1, 0, 1, 7/5, 3/10, 0, 0, 1/10]), Vector([0, 1, -9/7, 0, 0, -1/7, 0, -2/7]), Vector([0, 0, 1, 2, 1/2, 0, -1, 1/2]), Vector([0, 0, 2/7, -1/5, 1/10, 1/7, 0, -1/70])])"
            ],
            "text/html": [
              "<p style=\"text-align:center;\">$\\left[ \\begin{array}{cccc}1&0&0&0\\\\0&1&0&0\\\\1&- \\frac{9}{7}&1&\\frac{2}{7}\\\\\\frac{7}{5}&0&2&- \\frac{1}{5}\\\\\\frac{3}{10}&0&\\frac{1}{2}&\\frac{1}{10}\\\\0&- \\frac{1}{7}&0&\\frac{1}{7}\\\\0&0&-1&0\\\\\\frac{1}{10}&- \\frac{2}{7}&\\frac{1}{2}&- \\frac{1}{70}\\\\ \\end{array} \\right]$</p>"
            ],
            "image/png": "$\\left[ \\begin{array}{cccc}1&0&0&0\\\\0&1&0&0\\\\1&- \\frac{9}{7}&1&\\frac{2}{7}\\\\\\frac{7}{5}&0&2&- \\frac{1}{5}\\\\\\frac{3}{10}&0&\\frac{1}{2}&\\frac{1}{10}\\\\0&- \\frac{1}{7}&0&\\frac{1}{7}\\\\0&0&-1&0\\\\\\frac{1}{10}&- \\frac{2}{7}&\\frac{1}{2}&- \\frac{1}{70}\\\\ \\end{array} \\right]$",
            "text/latex": "$\\left[ \\begin{array}{cccc}1&0&0&0\\\\0&1&0&0\\\\1&- \\frac{9}{7}&1&\\frac{2}{7}\\\\\\frac{7}{5}&0&2&- \\frac{1}{5}\\\\\\frac{3}{10}&0&\\frac{1}{2}&\\frac{1}{10}\\\\0&- \\frac{1}{7}&0&\\frac{1}{7}\\\\0&0&-1&0\\\\\\frac{1}{10}&- \\frac{2}{7}&\\frac{1}{2}&- \\frac{1}{70}\\\\ \\end{array} \\right]$"
          },
          "metadata": {},
          "execution_count": 28
        }
      ]
    },
    {
      "cell_type": "markdown",
      "source": [
        "$\\left[ \\begin{array}{cccc}1&0&0&0\\\\0&1&0&0\\\\1&- \\frac{9}{7}&1&\\frac{2}{7}\\\\\\frac{7}{5}&0&2&- \\frac{1}{5}\\\\\\frac{3}{10}&0&\\frac{1}{2}&\\frac{1}{10}\\\\0&- \\frac{1}{7}&0&\\frac{1}{7}\\\\0&0&-1&0\\\\\\frac{1}{10}&- \\frac{2}{7}&\\frac{1}{2}&- \\frac{1}{70}\\\\ \\end{array} \\right]$"
      ],
      "metadata": {
        "id": "W2UtwwKUAZLQ"
      }
    },
    {
      "cell_type": "code",
      "source": [
        "Z&T((-1,3,1))"
      ],
      "metadata": {
        "colab": {
          "base_uri": "https://localhost:8080/",
          "height": 46
        },
        "id": "NOB50Kz9AcfH",
        "outputId": "f6dab1f9-4560-4e9a-fe00-ba62c1e6830d"
      },
      "execution_count": null,
      "outputs": [
        {
          "output_type": "execute_result",
          "data": {
            "text/plain": [
              "Matrix([Vector([1, 0, 0, -3/5, -1/5, 0, 1, -2/5]), Vector([0, 1, -9/7, 0, 0, -1/7, 0, -2/7]), Vector([0, 0, 1, 2, 1/2, 0, -1, 1/2]), Vector([0, 0, 2/7, -1/5, 1/10, 1/7, 0, -1/70])])"
            ],
            "text/html": [
              "<p style=\"text-align:center;\">$\\left[ \\begin{array}{cccc}1&0&0&0\\\\0&1&0&0\\\\0&- \\frac{9}{7}&1&\\frac{2}{7}\\\\- \\frac{3}{5}&0&2&- \\frac{1}{5}\\\\- \\frac{1}{5}&0&\\frac{1}{2}&\\frac{1}{10}\\\\0&- \\frac{1}{7}&0&\\frac{1}{7}\\\\1&0&-1&0\\\\- \\frac{2}{5}&- \\frac{2}{7}&\\frac{1}{2}&- \\frac{1}{70}\\\\ \\end{array} \\right]$</p>"
            ],
            "image/png": "$\\left[ \\begin{array}{cccc}1&0&0&0\\\\0&1&0&0\\\\0&- \\frac{9}{7}&1&\\frac{2}{7}\\\\- \\frac{3}{5}&0&2&- \\frac{1}{5}\\\\- \\frac{1}{5}&0&\\frac{1}{2}&\\frac{1}{10}\\\\0&- \\frac{1}{7}&0&\\frac{1}{7}\\\\1&0&-1&0\\\\- \\frac{2}{5}&- \\frac{2}{7}&\\frac{1}{2}&- \\frac{1}{70}\\\\ \\end{array} \\right]$",
            "text/latex": "$\\left[ \\begin{array}{cccc}1&0&0&0\\\\0&1&0&0\\\\0&- \\frac{9}{7}&1&\\frac{2}{7}\\\\- \\frac{3}{5}&0&2&- \\frac{1}{5}\\\\- \\frac{1}{5}&0&\\frac{1}{2}&\\frac{1}{10}\\\\0&- \\frac{1}{7}&0&\\frac{1}{7}\\\\1&0&-1&0\\\\- \\frac{2}{5}&- \\frac{2}{7}&\\frac{1}{2}&- \\frac{1}{70}\\\\ \\end{array} \\right]$"
          },
          "metadata": {},
          "execution_count": 29
        }
      ]
    },
    {
      "cell_type": "markdown",
      "source": [
        "$\\left[ \\begin{array}{cccc}1&0&0&0\\\\0&1&0&0\\\\0&- \\frac{9}{7}&1&\\frac{2}{7}\\\\- \\frac{3}{5}&0&2&- \\frac{1}{5}\\\\- \\frac{1}{5}&0&\\frac{1}{2}&\\frac{1}{10}\\\\0&- \\frac{1}{7}&0&\\frac{1}{7}\\\\1&0&-1&0\\\\- \\frac{2}{5}&- \\frac{2}{7}&\\frac{1}{2}&- \\frac{1}{70}\\\\ \\end{array} \\right]$"
      ],
      "metadata": {
        "id": "yCSSGwVdAchk"
      }
    },
    {
      "cell_type": "code",
      "source": [
        "Z&T((fracc(9,7),3,2))"
      ],
      "metadata": {
        "colab": {
          "base_uri": "https://localhost:8080/",
          "height": 46
        },
        "id": "HPey1BIYAe-6",
        "outputId": "c575178d-2a71-49d8-8249-346288eb007f"
      },
      "execution_count": null,
      "outputs": [
        {
          "output_type": "execute_result",
          "data": {
            "text/plain": [
              "Matrix([Vector([1, 0, 0, -3/5, -1/5, 0, 1, -2/5]), Vector([0, 1, 0, 18/7, 9/14, -1/7, -9/7, 5/14]), Vector([0, 0, 1, 2, 1/2, 0, -1, 1/2]), Vector([0, 0, 2/7, -1/5, 1/10, 1/7, 0, -1/70])])"
            ],
            "text/html": [
              "<p style=\"text-align:center;\">$\\left[ \\begin{array}{cccc}1&0&0&0\\\\0&1&0&0\\\\0&0&1&\\frac{2}{7}\\\\- \\frac{3}{5}&\\frac{18}{7}&2&- \\frac{1}{5}\\\\- \\frac{1}{5}&\\frac{9}{14}&\\frac{1}{2}&\\frac{1}{10}\\\\0&- \\frac{1}{7}&0&\\frac{1}{7}\\\\1&- \\frac{9}{7}&-1&0\\\\- \\frac{2}{5}&\\frac{5}{14}&\\frac{1}{2}&- \\frac{1}{70}\\\\ \\end{array} \\right]$</p>"
            ],
            "image/png": "$\\left[ \\begin{array}{cccc}1&0&0&0\\\\0&1&0&0\\\\0&0&1&\\frac{2}{7}\\\\- \\frac{3}{5}&\\frac{18}{7}&2&- \\frac{1}{5}\\\\- \\frac{1}{5}&\\frac{9}{14}&\\frac{1}{2}&\\frac{1}{10}\\\\0&- \\frac{1}{7}&0&\\frac{1}{7}\\\\1&- \\frac{9}{7}&-1&0\\\\- \\frac{2}{5}&\\frac{5}{14}&\\frac{1}{2}&- \\frac{1}{70}\\\\ \\end{array} \\right]$",
            "text/latex": "$\\left[ \\begin{array}{cccc}1&0&0&0\\\\0&1&0&0\\\\0&0&1&\\frac{2}{7}\\\\- \\frac{3}{5}&\\frac{18}{7}&2&- \\frac{1}{5}\\\\- \\frac{1}{5}&\\frac{9}{14}&\\frac{1}{2}&\\frac{1}{10}\\\\0&- \\frac{1}{7}&0&\\frac{1}{7}\\\\1&- \\frac{9}{7}&-1&0\\\\- \\frac{2}{5}&\\frac{5}{14}&\\frac{1}{2}&- \\frac{1}{70}\\\\ \\end{array} \\right]$"
          },
          "metadata": {},
          "execution_count": 30
        }
      ]
    },
    {
      "cell_type": "markdown",
      "source": [
        "$\\left[ \\begin{array}{cccc}1&0&0&0\\\\0&1&0&0\\\\0&0&1&\\frac{2}{7}\\\\- \\frac{3}{5}&\\frac{18}{7}&2&- \\frac{1}{5}\\\\- \\frac{1}{5}&\\frac{9}{14}&\\frac{1}{2}&\\frac{1}{10}\\\\0&- \\frac{1}{7}&0&\\frac{1}{7}\\\\1&- \\frac{9}{7}&-1&0\\\\- \\frac{2}{5}&\\frac{5}{14}&\\frac{1}{2}&- \\frac{1}{70}\\\\ \\end{array} \\right]$"
      ],
      "metadata": {
        "id": "oW50tGX-AfHo"
      }
    },
    {
      "cell_type": "code",
      "source": [
        "Z&T((fracc(-2,7),3,4))"
      ],
      "metadata": {
        "colab": {
          "base_uri": "https://localhost:8080/",
          "height": 46
        },
        "id": "b1bcwdN-Ah8c",
        "outputId": "7eaaa929-f9f1-43f2-f8c7-b0fc1fd23637"
      },
      "execution_count": null,
      "outputs": [
        {
          "output_type": "execute_result",
          "data": {
            "text/plain": [
              "Matrix([Vector([1, 0, 0, -3/5, -1/5, 0, 1, -2/5]), Vector([0, 1, 0, 18/7, 9/14, -1/7, -9/7, 5/14]), Vector([0, 0, 1, 2, 1/2, 0, -1, 1/2]), Vector([0, 0, 0, -27/35, -3/70, 1/7, 2/7, -11/70])])"
            ],
            "text/html": [
              "<p style=\"text-align:center;\">$\\left[ \\begin{array}{cccc}1&0&0&0\\\\0&1&0&0\\\\0&0&1&0\\\\- \\frac{3}{5}&\\frac{18}{7}&2&- \\frac{27}{35}\\\\- \\frac{1}{5}&\\frac{9}{14}&\\frac{1}{2}&- \\frac{3}{70}\\\\0&- \\frac{1}{7}&0&\\frac{1}{7}\\\\1&- \\frac{9}{7}&-1&\\frac{2}{7}\\\\- \\frac{2}{5}&\\frac{5}{14}&\\frac{1}{2}&- \\frac{11}{70}\\\\ \\end{array} \\right]$</p>"
            ],
            "image/png": "$\\left[ \\begin{array}{cccc}1&0&0&0\\\\0&1&0&0\\\\0&0&1&0\\\\- \\frac{3}{5}&\\frac{18}{7}&2&- \\frac{27}{35}\\\\- \\frac{1}{5}&\\frac{9}{14}&\\frac{1}{2}&- \\frac{3}{70}\\\\0&- \\frac{1}{7}&0&\\frac{1}{7}\\\\1&- \\frac{9}{7}&-1&\\frac{2}{7}\\\\- \\frac{2}{5}&\\frac{5}{14}&\\frac{1}{2}&- \\frac{11}{70}\\\\ \\end{array} \\right]$",
            "text/latex": "$\\left[ \\begin{array}{cccc}1&0&0&0\\\\0&1&0&0\\\\0&0&1&0\\\\- \\frac{3}{5}&\\frac{18}{7}&2&- \\frac{27}{35}\\\\- \\frac{1}{5}&\\frac{9}{14}&\\frac{1}{2}&- \\frac{3}{70}\\\\0&- \\frac{1}{7}&0&\\frac{1}{7}\\\\1&- \\frac{9}{7}&-1&\\frac{2}{7}\\\\- \\frac{2}{5}&\\frac{5}{14}&\\frac{1}{2}&- \\frac{11}{70}\\\\ \\end{array} \\right]$"
          },
          "metadata": {},
          "execution_count": 31
        }
      ]
    },
    {
      "cell_type": "markdown",
      "source": [
        "$\\left[ \\begin{array}{cccc}1&0&0&0\\\\0&1&0&0\\\\0&0&1&0\\\\- \\frac{3}{5}&\\frac{18}{7}&2&- \\frac{27}{35}\\\\- \\frac{1}{5}&\\frac{9}{14}&\\frac{1}{2}&- \\frac{3}{70}\\\\0&- \\frac{1}{7}&0&\\frac{1}{7}\\\\1&- \\frac{9}{7}&-1&\\frac{2}{7}\\\\- \\frac{2}{5}&\\frac{5}{14}&\\frac{1}{2}&- \\frac{11}{70}\\\\ \\end{array} \\right]$"
      ],
      "metadata": {
        "id": "24S9zsh-AiA-"
      }
    },
    {
      "cell_type": "code",
      "source": [
        "Z&T((fracc(-35,27),4))"
      ],
      "metadata": {
        "colab": {
          "base_uri": "https://localhost:8080/",
          "height": 46
        },
        "id": "m6U75R_FAmXk",
        "outputId": "f12c0db2-ba13-4dc6-d203-9b3b97ef5731"
      },
      "execution_count": null,
      "outputs": [
        {
          "output_type": "execute_result",
          "data": {
            "text/plain": [
              "Matrix([Vector([1, 0, 0, -3/5, -1/5, 0, 1, -2/5]), Vector([0, 1, 0, 18/7, 9/14, -1/7, -9/7, 5/14]), Vector([0, 0, 1, 2, 1/2, 0, -1, 1/2]), Vector([0, 0, 0, 1, 1/18, -5/27, -10/27, 11/54])])"
            ],
            "text/html": [
              "<p style=\"text-align:center;\">$\\left[ \\begin{array}{cccc}1&0&0&0\\\\0&1&0&0\\\\0&0&1&0\\\\- \\frac{3}{5}&\\frac{18}{7}&2&1\\\\- \\frac{1}{5}&\\frac{9}{14}&\\frac{1}{2}&\\frac{1}{18}\\\\0&- \\frac{1}{7}&0&- \\frac{5}{27}\\\\1&- \\frac{9}{7}&-1&- \\frac{10}{27}\\\\- \\frac{2}{5}&\\frac{5}{14}&\\frac{1}{2}&\\frac{11}{54}\\\\ \\end{array} \\right]$</p>"
            ],
            "image/png": "$\\left[ \\begin{array}{cccc}1&0&0&0\\\\0&1&0&0\\\\0&0&1&0\\\\- \\frac{3}{5}&\\frac{18}{7}&2&1\\\\- \\frac{1}{5}&\\frac{9}{14}&\\frac{1}{2}&\\frac{1}{18}\\\\0&- \\frac{1}{7}&0&- \\frac{5}{27}\\\\1&- \\frac{9}{7}&-1&- \\frac{10}{27}\\\\- \\frac{2}{5}&\\frac{5}{14}&\\frac{1}{2}&\\frac{11}{54}\\\\ \\end{array} \\right]$",
            "text/latex": "$\\left[ \\begin{array}{cccc}1&0&0&0\\\\0&1&0&0\\\\0&0&1&0\\\\- \\frac{3}{5}&\\frac{18}{7}&2&1\\\\- \\frac{1}{5}&\\frac{9}{14}&\\frac{1}{2}&\\frac{1}{18}\\\\0&- \\frac{1}{7}&0&- \\frac{5}{27}\\\\1&- \\frac{9}{7}&-1&- \\frac{10}{27}\\\\- \\frac{2}{5}&\\frac{5}{14}&\\frac{1}{2}&\\frac{11}{54}\\\\ \\end{array} \\right]$"
          },
          "metadata": {},
          "execution_count": 32
        }
      ]
    },
    {
      "cell_type": "markdown",
      "source": [
        "$\\left[ \\begin{array}{cccc}1&0&0&0\\\\0&1&0&0\\\\0&0&1&0\\\\- \\frac{3}{5}&\\frac{18}{7}&2&1\\\\- \\frac{1}{5}&\\frac{9}{14}&\\frac{1}{2}&\\frac{1}{18}\\\\0&- \\frac{1}{7}&0&- \\frac{5}{27}\\\\1&- \\frac{9}{7}&-1&- \\frac{10}{27}\\\\- \\frac{2}{5}&\\frac{5}{14}&\\frac{1}{2}&\\frac{11}{54}\\\\ \\end{array} \\right]$"
      ],
      "metadata": {
        "id": "lLSG0uTLAmZ5"
      }
    },
    {
      "cell_type": "code",
      "source": [
        "Z&T((fracc(3,5),4,1))\n",
        "Z&T((fracc(-18,7),4,2))\n",
        "Z&T((-2,4,3))"
      ],
      "metadata": {
        "colab": {
          "base_uri": "https://localhost:8080/",
          "height": 64
        },
        "id": "s-aEuOkkAuQw",
        "outputId": "78b5af5d-6948-41e5-9d63-6843d6416fb6"
      },
      "execution_count": null,
      "outputs": [
        {
          "output_type": "execute_result",
          "data": {
            "text/plain": [
              "Matrix([Vector([1, 0, 0, 0, -1/6, -1/9, 7/9, -5/18]), Vector([0, 1, 0, 0, 1/2, 1/3, -1/3, -1/6]), Vector([0, 0, 1, 0, 7/18, 10/27, -7/27, 5/54]), Vector([0, 0, 0, 1, 1/18, -5/27, -10/27, 11/54])])"
            ],
            "text/html": [
              "<p style=\"text-align:center;\">$\\left[ \\begin{array}{cccc}1&0&0&0\\\\0&1&0&0\\\\0&0&1&0\\\\0&0&0&1\\\\- \\frac{1}{6}&\\frac{1}{2}&\\frac{7}{18}&\\frac{1}{18}\\\\- \\frac{1}{9}&\\frac{1}{3}&\\frac{10}{27}&- \\frac{5}{27}\\\\\\frac{7}{9}&- \\frac{1}{3}&- \\frac{7}{27}&- \\frac{10}{27}\\\\- \\frac{5}{18}&- \\frac{1}{6}&\\frac{5}{54}&\\frac{11}{54}\\\\ \\end{array} \\right]$</p>"
            ],
            "image/png": "$\\left[ \\begin{array}{cccc}1&0&0&0\\\\0&1&0&0\\\\0&0&1&0\\\\0&0&0&1\\\\- \\frac{1}{6}&\\frac{1}{2}&\\frac{7}{18}&\\frac{1}{18}\\\\- \\frac{1}{9}&\\frac{1}{3}&\\frac{10}{27}&- \\frac{5}{27}\\\\\\frac{7}{9}&- \\frac{1}{3}&- \\frac{7}{27}&- \\frac{10}{27}\\\\- \\frac{5}{18}&- \\frac{1}{6}&\\frac{5}{54}&\\frac{11}{54}\\\\ \\end{array} \\right]$",
            "text/latex": "$\\left[ \\begin{array}{cccc}1&0&0&0\\\\0&1&0&0\\\\0&0&1&0\\\\0&0&0&1\\\\- \\frac{1}{6}&\\frac{1}{2}&\\frac{7}{18}&\\frac{1}{18}\\\\- \\frac{1}{9}&\\frac{1}{3}&\\frac{10}{27}&- \\frac{5}{27}\\\\\\frac{7}{9}&- \\frac{1}{3}&- \\frac{7}{27}&- \\frac{10}{27}\\\\- \\frac{5}{18}&- \\frac{1}{6}&\\frac{5}{54}&\\frac{11}{54}\\\\ \\end{array} \\right]$"
          },
          "metadata": {},
          "execution_count": 33
        }
      ]
    },
    {
      "cell_type": "markdown",
      "source": [
        "$\\left[ \\begin{array}{cccc}1&0&0&0\\\\0&1&0&0\\\\0&0&1&0\\\\0&0&0&1\\\\- \\frac{1}{6}&\\frac{1}{2}&\\frac{7}{18}&\\frac{1}{18}\\\\- \\frac{1}{9}&\\frac{1}{3}&\\frac{10}{27}&- \\frac{5}{27}\\\\\\frac{7}{9}&- \\frac{1}{3}&- \\frac{7}{27}&- \\frac{10}{27}\\\\- \\frac{5}{18}&- \\frac{1}{6}&\\frac{5}{54}&\\frac{11}{54}\\\\ \\end{array} \\right]$"
      ],
      "metadata": {
        "id": "3x-H-9OMAsUq"
      }
    },
    {
      "cell_type": "markdown",
      "source": [
        "8. Resuelva el siguiente sistema de ecuaciones:\n",
        "\n",
        "$$ \\begin{array}{ccc}5x&+7y&-z&=6\\\\2x&+10y&-2z&=4\\\\x&+y&+z&=0\\\\ \\end{array} $$"
      ],
      "metadata": {
        "id": "7qCclYTJAyWD"
      }
    },
    {
      "cell_type": "code",
      "source": [
        "E = Matrix([[5,7,-1],[2,10,-2],[1,1,1]])\n",
        "E"
      ],
      "metadata": {
        "colab": {
          "base_uri": "https://localhost:8080/",
          "height": 46
        },
        "id": "hlPC3GEGAyQ-",
        "outputId": "3c22e968-8e83-4811-f90c-78b9f63f34fe"
      },
      "execution_count": null,
      "outputs": [
        {
          "output_type": "execute_result",
          "data": {
            "text/plain": [
              "Matrix([Vector([5, 2, 1]), Vector([7, 10, 1]), Vector([-1, -2, 1])])"
            ],
            "text/html": [
              "<p style=\"text-align:center;\">$\\left[ \\begin{array}{ccc}5&7&-1\\\\2&10&-2\\\\1&1&1\\\\ \\end{array} \\right]$</p>"
            ],
            "image/png": "$\\left[ \\begin{array}{ccc}5&7&-1\\\\2&10&-2\\\\1&1&1\\\\ \\end{array} \\right]$",
            "text/latex": "$\\left[ \\begin{array}{ccc}5&7&-1\\\\2&10&-2\\\\1&1&1\\\\ \\end{array} \\right]$"
          },
          "metadata": {},
          "execution_count": 34
        }
      ]
    },
    {
      "cell_type": "markdown",
      "source": [
        "$\\left[ \\begin{array}{ccc}5&7&-1\\\\2&10&-2\\\\1&1&1\\\\ \\end{array} \\right]$"
      ],
      "metadata": {
        "id": "ZPkasT-6A4D_"
      }
    },
    {
      "cell_type": "code",
      "source": [
        "S = Matrix([[5,7,-1,6],[2,10,-2,4],[1,1,1,0]])\n",
        "S"
      ],
      "metadata": {
        "colab": {
          "base_uri": "https://localhost:8080/",
          "height": 46
        },
        "id": "KVIOMXpqA8pK",
        "outputId": "cde10877-5331-496d-8891-7fbbc402c6a5"
      },
      "execution_count": null,
      "outputs": [
        {
          "output_type": "execute_result",
          "data": {
            "text/plain": [
              "Matrix([Vector([5, 2, 1]), Vector([7, 10, 1]), Vector([-1, -2, 1]), Vector([6, 4, 0])])"
            ],
            "text/html": [
              "<p style=\"text-align:center;\">$\\left[ \\begin{array}{cccc}5&7&-1&6\\\\2&10&-2&4\\\\1&1&1&0\\\\ \\end{array} \\right]$</p>"
            ],
            "image/png": "$\\left[ \\begin{array}{cccc}5&7&-1&6\\\\2&10&-2&4\\\\1&1&1&0\\\\ \\end{array} \\right]$",
            "text/latex": "$\\left[ \\begin{array}{cccc}5&7&-1&6\\\\2&10&-2&4\\\\1&1&1&0\\\\ \\end{array} \\right]$"
          },
          "metadata": {},
          "execution_count": 35
        }
      ]
    },
    {
      "cell_type": "markdown",
      "source": [
        "$\\left[ \\begin{array}{cccc}5&7&-1&6\\\\2&10&-2&4\\\\1&1&1&0\\\\ \\end{array} \\right]$"
      ],
      "metadata": {
        "id": "zVhE2TfmA93v"
      }
    },
    {
      "cell_type": "code",
      "source": [
        "T((fracc(-1,2),2))&S\n",
        "T((1,2,3))&S\n",
        "T((fracc(-1,5),2))&S\n",
        "T((4,2,3))&S\n",
        "T((fracc(1,5),1))&S"
      ],
      "metadata": {
        "colab": {
          "base_uri": "https://localhost:8080/",
          "height": 46
        },
        "id": "oO0fuYIzA_wW",
        "outputId": "48123f82-31dd-4bab-d744-e07298e845e9"
      },
      "execution_count": null,
      "outputs": [
        {
          "output_type": "execute_result",
          "data": {
            "text/plain": [
              "Matrix([Vector([1, 1/5, 4/5]), Vector([7/5, 1, 0]), Vector([-1/5, -1/5, 6/5]), Vector([6/5, 2/5, -2/5])])"
            ],
            "text/html": [
              "<p style=\"text-align:center;\">$\\left[ \\begin{array}{cccc}1&\\frac{7}{5}&- \\frac{1}{5}&\\frac{6}{5}\\\\\\frac{1}{5}&1&- \\frac{1}{5}&\\frac{2}{5}\\\\\\frac{4}{5}&0&\\frac{6}{5}&- \\frac{2}{5}\\\\ \\end{array} \\right]$</p>"
            ],
            "image/png": "$\\left[ \\begin{array}{cccc}1&\\frac{7}{5}&- \\frac{1}{5}&\\frac{6}{5}\\\\\\frac{1}{5}&1&- \\frac{1}{5}&\\frac{2}{5}\\\\\\frac{4}{5}&0&\\frac{6}{5}&- \\frac{2}{5}\\\\ \\end{array} \\right]$",
            "text/latex": "$\\left[ \\begin{array}{cccc}1&\\frac{7}{5}&- \\frac{1}{5}&\\frac{6}{5}\\\\\\frac{1}{5}&1&- \\frac{1}{5}&\\frac{2}{5}\\\\\\frac{4}{5}&0&\\frac{6}{5}&- \\frac{2}{5}\\\\ \\end{array} \\right]$"
          },
          "metadata": {},
          "execution_count": 36
        }
      ]
    },
    {
      "cell_type": "markdown",
      "source": [
        "$\\left[ \\begin{array}{cccc}1&\\frac{7}{5}&- \\frac{1}{5}&\\frac{6}{5}\\\\\\frac{1}{5}&1&- \\frac{1}{5}&\\frac{2}{5}\\\\\\frac{4}{5}&0&\\frac{6}{5}&- \\frac{2}{5}\\\\ \\end{array} \\right]$"
      ],
      "metadata": {
        "id": "uyKOdtALA_4Y"
      }
    },
    {
      "cell_type": "code",
      "source": [
        "T((fracc(5,6),3))&S\n",
        "T((fracc(1,5),3,2))&S\n",
        "T((fracc(-1,3),1,2))&S\n",
        "T((fracc(-2,3),1,3))&S"
      ],
      "metadata": {
        "colab": {
          "base_uri": "https://localhost:8080/",
          "height": 46
        },
        "id": "6hVmFGohBEpT",
        "outputId": "b447bb88-9ec3-4deb-b74d-48d1be2ef427"
      },
      "execution_count": null,
      "outputs": [
        {
          "output_type": "execute_result",
          "data": {
            "text/plain": [
              "Matrix([Vector([1, 0, 0]), Vector([7/5, 8/15, -14/15]), Vector([-1/5, 1/15, 17/15]), Vector([6/5, -1/15, -17/15])])"
            ],
            "text/html": [
              "<p style=\"text-align:center;\">$\\left[ \\begin{array}{cccc}1&\\frac{7}{5}&- \\frac{1}{5}&\\frac{6}{5}\\\\0&\\frac{8}{15}&\\frac{1}{15}&- \\frac{1}{15}\\\\0&- \\frac{14}{15}&\\frac{17}{15}&- \\frac{17}{15}\\\\ \\end{array} \\right]$</p>"
            ],
            "image/png": "$\\left[ \\begin{array}{cccc}1&\\frac{7}{5}&- \\frac{1}{5}&\\frac{6}{5}\\\\0&\\frac{8}{15}&\\frac{1}{15}&- \\frac{1}{15}\\\\0&- \\frac{14}{15}&\\frac{17}{15}&- \\frac{17}{15}\\\\ \\end{array} \\right]$",
            "text/latex": "$\\left[ \\begin{array}{cccc}1&\\frac{7}{5}&- \\frac{1}{5}&\\frac{6}{5}\\\\0&\\frac{8}{15}&\\frac{1}{15}&- \\frac{1}{15}\\\\0&- \\frac{14}{15}&\\frac{17}{15}&- \\frac{17}{15}\\\\ \\end{array} \\right]$"
          },
          "metadata": {},
          "execution_count": 37
        }
      ]
    },
    {
      "cell_type": "markdown",
      "source": [
        "$\\left[ \\begin{array}{cccc}1&\\frac{7}{5}&- \\frac{1}{5}&\\frac{6}{5}\\\\0&\\frac{8}{15}&\\frac{1}{15}&- \\frac{1}{15}\\\\0&- \\frac{14}{15}&\\frac{17}{15}&- \\frac{17}{15}\\\\ \\end{array} \\right]$"
      ],
      "metadata": {
        "id": "mng8TMa4BEw8"
      }
    },
    {
      "cell_type": "code",
      "source": [
        "T((fracc(15,8),2))&S\n",
        "T((fracc(-7,5),2,1))&S\n",
        "T((fracc(14,15),2,3))&S\n",
        "T((fracc(4,5),3))&S"
      ],
      "metadata": {
        "colab": {
          "base_uri": "https://localhost:8080/",
          "height": 46
        },
        "id": "MHkBTEUxBIgC",
        "outputId": "2d746e05-6338-4051-f240-fb18bb0c50b3"
      },
      "execution_count": null,
      "outputs": [
        {
          "output_type": "execute_result",
          "data": {
            "text/plain": [
              "Matrix([Vector([1, 0, 0]), Vector([0, 1, 0]), Vector([-3/8, 1/8, 1]), Vector([11/8, -1/8, -1])])"
            ],
            "text/html": [
              "<p style=\"text-align:center;\">$\\left[ \\begin{array}{cccc}1&0&- \\frac{3}{8}&\\frac{11}{8}\\\\0&1&\\frac{1}{8}&- \\frac{1}{8}\\\\0&0&1&-1\\\\ \\end{array} \\right]$</p>"
            ],
            "image/png": "$\\left[ \\begin{array}{cccc}1&0&- \\frac{3}{8}&\\frac{11}{8}\\\\0&1&\\frac{1}{8}&- \\frac{1}{8}\\\\0&0&1&-1\\\\ \\end{array} \\right]$",
            "text/latex": "$\\left[ \\begin{array}{cccc}1&0&- \\frac{3}{8}&\\frac{11}{8}\\\\0&1&\\frac{1}{8}&- \\frac{1}{8}\\\\0&0&1&-1\\\\ \\end{array} \\right]$"
          },
          "metadata": {},
          "execution_count": 38
        }
      ]
    },
    {
      "cell_type": "markdown",
      "source": [
        "$\\left[ \\begin{array}{cccc}1&0&- \\frac{3}{8}&\\frac{11}{8}\\\\0&1&\\frac{1}{8}&- \\frac{1}{8}\\\\0&0&1&-1\\\\ \\end{array} \\right]$"
      ],
      "metadata": {
        "id": "NaQ-Hhb0BIjA"
      }
    },
    {
      "cell_type": "code",
      "source": [
        "T((fracc(-1,8),3,2))&S\n",
        "T((fracc(3,8),3,1))&S"
      ],
      "metadata": {
        "colab": {
          "base_uri": "https://localhost:8080/",
          "height": 46
        },
        "id": "0O643ZN-BMDu",
        "outputId": "14f577e3-9ce0-40f7-ec85-f61c5d8f043e"
      },
      "execution_count": null,
      "outputs": [
        {
          "output_type": "execute_result",
          "data": {
            "text/plain": [
              "Matrix([Vector([1, 0, 0]), Vector([0, 1, 0]), Vector([0, 0, 1]), Vector([1, 0, -1])])"
            ],
            "text/html": [
              "<p style=\"text-align:center;\">$\\left[ \\begin{array}{cccc}1&0&0&1\\\\0&1&0&0\\\\0&0&1&-1\\\\ \\end{array} \\right]$</p>"
            ],
            "image/png": "$\\left[ \\begin{array}{cccc}1&0&0&1\\\\0&1&0&0\\\\0&0&1&-1\\\\ \\end{array} \\right]$",
            "text/latex": "$\\left[ \\begin{array}{cccc}1&0&0&1\\\\0&1&0&0\\\\0&0&1&-1\\\\ \\end{array} \\right]$"
          },
          "metadata": {},
          "execution_count": 39
        }
      ]
    },
    {
      "cell_type": "markdown",
      "source": [
        "$\\left[ \\begin{array}{cccc}1&0&0&1\\\\0&1&0&0\\\\0&0&1&-1\\\\ \\end{array} \\right]$"
      ],
      "metadata": {
        "id": "HxU6TQj8BMN7"
      }
    },
    {
      "cell_type": "markdown",
      "source": [
        "En donde, 1 es el valor de **X**, 0 el valor de **Y**, y -1 el valor de **Z**."
      ],
      "metadata": {
        "id": "ka7jKih-BQfC"
      }
    }
  ]
}