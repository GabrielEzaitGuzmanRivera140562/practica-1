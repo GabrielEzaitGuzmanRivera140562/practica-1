{
  "nbformat": 4,
  "nbformat_minor": 0,
  "metadata": {
    "colab": {
      "provenance": [],
      "authorship_tag": "ABX9TyNOyg+G0Q1y7tH7NkVhjnt/",
      "include_colab_link": true
    },
    "kernelspec": {
      "name": "python3",
      "display_name": "Python 3"
    },
    "language_info": {
      "name": "python"
    }
  },
  "cells": [
    {
      "cell_type": "markdown",
      "metadata": {
        "id": "view-in-github",
        "colab_type": "text"
      },
      "source": [
        "<a href=\"https://colab.research.google.com/github/GabrielEzaitGuzmanRivera140562/practicas/blob/Algebra-lineal/Tarea_Num2.ipynb\" target=\"_parent\"><img src=\"https://colab.research.google.com/assets/colab-badge.svg\" alt=\"Open In Colab\"/></a>"
      ]
    },
    {
      "cell_type": "markdown",
      "source": [
        "#***Tarea Numero 2***#\n"
      ],
      "metadata": {
        "id": "pU5xZCvlYp12"
      }
    },
    {
      "cell_type": "code",
      "execution_count": 1,
      "metadata": {
        "colab": {
          "base_uri": "https://localhost:8080/"
        },
        "id": "kN5nkEA6WusH",
        "outputId": "9104b9e5-2935-4375-bd4b-e67965249f87"
      },
      "outputs": [
        {
          "output_type": "stream",
          "name": "stdout",
          "text": [
            "Collecting nacal\n",
            "  Downloading nacal-0.1.30-py3-none-any.whl (33 kB)\n",
            "Requirement already satisfied: sympy>=1.1.0 in /usr/local/lib/python3.10/dist-packages (from nacal) (1.12)\n",
            "Requirement already satisfied: mpmath>=0.19 in /usr/local/lib/python3.10/dist-packages (from sympy>=1.1.0->nacal) (1.3.0)\n",
            "Installing collected packages: nacal\n",
            "Successfully installed nacal-0.1.30\n"
          ]
        }
      ],
      "source": [
        "!pip install --target=$nb_path nacal\n",
        "from nacal import *"
      ]
    },
    {
      "cell_type": "markdown",
      "source": [
        "**¿Cómo evalúa el módulo NAcAL las siguientes expresiones?**"
      ],
      "metadata": {
        "id": "ds2kP5qsYIkq"
      }
    },
    {
      "cell_type": "markdown",
      "source": [
        "$\\begin{pmatrix}\n",
        "4\\\\\n",
        "5\\\\\n",
        "6\\\\\n",
        "\\end{pmatrix}\n",
        "+\n",
        "\\begin{pmatrix}\n",
        "-4\\\\\n",
        "-5\\\\\n",
        "-6\\\\\n",
        "\\end{pmatrix}\n",
        "=\n",
        "\\begin{pmatrix}\n",
        "0\\\\\n",
        "0\\\\\n",
        "0\\\\\n",
        "\\end{pmatrix}\n",
        "?\n",
        "$"
      ],
      "metadata": {
        "id": "nF2Ie0kzXDLg"
      }
    },
    {
      "cell_type": "code",
      "source": [
        "a = Vector ([4, 5, 6])\n",
        "a"
      ],
      "metadata": {
        "colab": {
          "base_uri": "https://localhost:8080/",
          "height": 46
        },
        "id": "RkU2XOlyXUl_",
        "outputId": "a76e3cf8-d04e-484f-a5f7-6b18ed21cff9"
      },
      "execution_count": 2,
      "outputs": [
        {
          "output_type": "execute_result",
          "data": {
            "text/plain": [
              "Vector([4, 5, 6])"
            ],
            "text/html": [
              "<p style=\"text-align:center;\">$\\begin{pmatrix}4\\\\ 5\\\\ 6\\end{pmatrix}$</p>"
            ],
            "image/png": "$\\begin{pmatrix}4\\\\ 5\\\\ 6\\end{pmatrix}$",
            "text/latex": "$\\begin{pmatrix}4\\\\ 5\\\\ 6\\end{pmatrix}$"
          },
          "metadata": {},
          "execution_count": 2
        }
      ]
    },
    {
      "cell_type": "code",
      "source": [
        "b = Vector ([-4, -5, -6])\n",
        "b"
      ],
      "metadata": {
        "colab": {
          "base_uri": "https://localhost:8080/",
          "height": 46
        },
        "id": "l2bwuZxXYBBr",
        "outputId": "1005a15f-0265-4d4c-c4e5-1674cbf660d8"
      },
      "execution_count": 3,
      "outputs": [
        {
          "output_type": "execute_result",
          "data": {
            "text/plain": [
              "Vector([-4, -5, -6])"
            ],
            "text/html": [
              "<p style=\"text-align:center;\">$\\begin{pmatrix}-4\\\\ -5\\\\ -6\\end{pmatrix}$</p>"
            ],
            "image/png": "$\\begin{pmatrix}-4\\\\ -5\\\\ -6\\end{pmatrix}$",
            "text/latex": "$\\begin{pmatrix}-4\\\\ -5\\\\ -6\\end{pmatrix}$"
          },
          "metadata": {},
          "execution_count": 3
        }
      ]
    },
    {
      "cell_type": "code",
      "source": [
        "print(a+b)"
      ],
      "metadata": {
        "colab": {
          "base_uri": "https://localhost:8080/"
        },
        "id": "6WHLkTdXYEzM",
        "outputId": "bbdb3682-6ded-4f0d-de3d-b7a9f67f8bb4"
      },
      "execution_count": 4,
      "outputs": [
        {
          "output_type": "stream",
          "name": "stdout",
          "text": [
            "Vector([0, 0, 0])\n"
          ]
        }
      ]
    },
    {
      "cell_type": "markdown",
      "source": [
        "#**Problema Numero 6**#"
      ],
      "metadata": {
        "id": "7uA5_UvkY0tm"
      }
    },
    {
      "cell_type": "markdown",
      "source": [
        "$(2+3)\n",
        "\\begin{pmatrix}\n",
        "1\\\\\n",
        "2\\\\\n",
        "3\\\\\n",
        "\\end{pmatrix}\n",
        "=\n",
        "2\n",
        "\\begin{pmatrix}\n",
        "1\\\\\n",
        "2\\\\\n",
        "3\\\\\n",
        "\\end{pmatrix}\n",
        "+\n",
        "3\n",
        "\\begin{pmatrix}\n",
        "1\\\\\n",
        "2\\\\\n",
        "3\\\\\n",
        "\\end{pmatrix}\n",
        "?\n",
        "$"
      ],
      "metadata": {
        "id": "_Rwdq7FsZCo8"
      }
    },
    {
      "cell_type": "code",
      "source": [
        "a = Vector ([1, 2, 3])\n",
        "a"
      ],
      "metadata": {
        "colab": {
          "base_uri": "https://localhost:8080/",
          "height": 46
        },
        "id": "ZG7iCbNnZGLT",
        "outputId": "fc75349f-dbfb-41f9-cab8-c0216f2e7d7b"
      },
      "execution_count": 5,
      "outputs": [
        {
          "output_type": "execute_result",
          "data": {
            "text/plain": [
              "Vector([1, 2, 3])"
            ],
            "text/html": [
              "<p style=\"text-align:center;\">$\\begin{pmatrix}1\\\\ 2\\\\ 3\\end{pmatrix}$</p>"
            ],
            "image/png": "$\\begin{pmatrix}1\\\\ 2\\\\ 3\\end{pmatrix}$",
            "text/latex": "$\\begin{pmatrix}1\\\\ 2\\\\ 3\\end{pmatrix}$"
          },
          "metadata": {},
          "execution_count": 5
        }
      ]
    },
    {
      "cell_type": "code",
      "source": [
        "print((2+3)*(a))"
      ],
      "metadata": {
        "colab": {
          "base_uri": "https://localhost:8080/"
        },
        "id": "VdWfbegwZI-Z",
        "outputId": "24b89528-5ebb-4bd2-8288-41d12a5b292d"
      },
      "execution_count": 6,
      "outputs": [
        {
          "output_type": "stream",
          "name": "stdout",
          "text": [
            "Vector([5, 10, 15])\n"
          ]
        }
      ]
    }
  ]
}