{
  "nbformat": 4,
  "nbformat_minor": 0,
  "metadata": {
    "colab": {
      "provenance": [],
      "authorship_tag": "ABX9TyOi/WN+IG9lw9wu2N8fc+xS",
      "include_colab_link": true
    },
    "kernelspec": {
      "name": "python3",
      "display_name": "Python 3"
    },
    "language_info": {
      "name": "python"
    }
  },
  "cells": [
    {
      "cell_type": "markdown",
      "metadata": {
        "id": "view-in-github",
        "colab_type": "text"
      },
      "source": [
        "<a href=\"https://colab.research.google.com/github/GabrielEzaitGuzmanRivera140562/practicas/blob/Algebra-lineal/Examen1recuperacion.ipynb\" target=\"_parent\"><img src=\"https://colab.research.google.com/assets/colab-badge.svg\" alt=\"Open In Colab\"/></a>"
      ]
    },
    {
      "cell_type": "code",
      "execution_count": 1,
      "metadata": {
        "colab": {
          "base_uri": "https://localhost:8080/"
        },
        "id": "YhVe2z47KFez",
        "outputId": "1f660f21-21af-4f6f-b41a-5ec137b9b700"
      },
      "outputs": [
        {
          "output_type": "stream",
          "name": "stdout",
          "text": [
            "Collecting nacal\n",
            "  Downloading nacal-0.2.1-py3-none-any.whl (40 kB)\n",
            "\u001b[2K     \u001b[90m━━━━━━━━━━━━━━━━━━━━━━━━━━━━━━━━━━━━━━━━\u001b[0m \u001b[32m40.0/40.0 kB\u001b[0m \u001b[31m497.7 kB/s\u001b[0m eta \u001b[36m0:00:00\u001b[0m\n",
            "\u001b[?25hRequirement already satisfied: sympy>=1.1.0 in /usr/local/lib/python3.10/dist-packages (from nacal) (1.12.1)\n",
            "Requirement already satisfied: mpmath<1.4.0,>=1.1.0 in /usr/local/lib/python3.10/dist-packages (from sympy>=1.1.0->nacal) (1.3.0)\n",
            "Installing collected packages: nacal\n",
            "Successfully installed nacal-0.2.1\n"
          ]
        }
      ],
      "source": [
        "!pip install --target=$nb_path nacal\n",
        "from nacal import *"
      ]
    },
    {
      "cell_type": "markdown",
      "source": [
        "# 1. Genere los vectores $a$ y $ {b}$:\n",
        "\n",
        "-   el vector ${a}$ está formado por la lista de números: 1, 4, 9, 2, -5, π\n",
        "-   el vector ${b}$ está formado por la lista de números: 1, 2, 1, 0, 0.01,  $\\sqrt 2$\n",
        "-   súmelos"
      ],
      "metadata": {
        "id": "Si2cNqxsLnDw"
      }
    },
    {
      "cell_type": "code",
      "source": [
        "a = Vector([1,4,9,2,-5,3.1416])\n",
        "b = Vector([1,2,1,0,0.01,2**0.5])\n",
        "suma = a+b\n",
        "print(suma)"
      ],
      "metadata": {
        "colab": {
          "base_uri": "https://localhost:8080/"
        },
        "id": "6-bH4uFELoAm",
        "outputId": "f95bca12-4bd1-45cc-9a43-c1e15b2940c4"
      },
      "execution_count": 2,
      "outputs": [
        {
          "output_type": "stream",
          "name": "stdout",
          "text": [
            "(2, 6, 10, 2, -4.99000000000000, 4.55581356237310,)\n"
          ]
        }
      ]
    },
    {
      "cell_type": "markdown",
      "source": [
        "2. Proporcione ejemplos de matrices 3 por 3 no nulas de los siguientes\n",
        "tipos de matrices:\n",
        "\n",
        "-   Una matriz diagonal"
      ],
      "metadata": {
        "id": "KXgSZvBzLyl-"
      }
    },
    {
      "cell_type": "markdown",
      "source": [
        "-   Una matriz simétrica\n"
      ],
      "metadata": {
        "id": "8vZOl_WDL0_X"
      }
    },
    {
      "cell_type": "code",
      "source": [
        "f = Vector([1,0,0])\n",
        "g = Vector([0,5,0])\n",
        "r = Vector([0,0,3])\n",
        "M = Matrix([f,g,r])\n",
        "M"
      ],
      "metadata": {
        "colab": {
          "base_uri": "https://localhost:8080/",
          "height": 46
        },
        "id": "j6BLZSsZL1p-",
        "outputId": "3fdc740d-1900-4da9-8ed8-df93a82ae285"
      },
      "execution_count": 3,
      "outputs": [
        {
          "output_type": "execute_result",
          "data": {
            "text/plain": [
              "Matrix([Vector([1, 0, 0]), Vector([0, 5, 0]), Vector([0, 0, 3])])"
            ],
            "text/html": [
              "<p style=\"text-align:center;\">$\\left[ \\begin{array}{ccc}1&0&0\\\\0&5&0\\\\0&0&3\\\\ \\end{array} \\right]$</p>"
            ],
            "image/png": "$\\left[ \\begin{array}{ccc}1&0&0\\\\0&5&0\\\\0&0&3\\\\ \\end{array} \\right]$",
            "text/latex": "$\\left[ \\begin{array}{ccc}1&0&0\\\\0&5&0\\\\0&0&3\\\\ \\end{array} \\right]$"
          },
          "metadata": {},
          "execution_count": 3
        }
      ]
    },
    {
      "cell_type": "markdown",
      "source": [
        "$\\left[ \\begin{array}{ccc}1&0&0\\\\0&5&0\\\\0&0&3\\\\ \\end{array} \\right]$"
      ],
      "metadata": {
        "id": "RFAFjLbGL6jU"
      }
    },
    {
      "cell_type": "markdown",
      "source": [
        "3. Cree la matriz\n",
        "$${A}=\\begin{bmatrix}1&0&0&-1\\\\2&0&7&0\\\\-4&3&3&0\\\\0&3&4&1\\\\7&1&2&1\\end{bmatrix}$$\n",
        "\n"
      ],
      "metadata": {
        "id": "mNeAvjeSL_z2"
      }
    },
    {
      "cell_type": "code",
      "source": [
        "t = Vector([1,2,-4,0,7])\n",
        "p = Vector([0,0,3,3,1])\n",
        "l = Vector([0,7,3,4,2])\n",
        "v = Vector([-1,0,0,1,1])\n",
        "A = Matrix([t,p,l,v])\n",
        "A"
      ],
      "metadata": {
        "colab": {
          "base_uri": "https://localhost:8080/",
          "height": 46
        },
        "id": "tFEd7sRBMAmc",
        "outputId": "1e7c8350-512e-4e2a-ffc2-2eac495519c8"
      },
      "execution_count": 4,
      "outputs": [
        {
          "output_type": "execute_result",
          "data": {
            "text/plain": [
              "Matrix([Vector([1, 2, -4, 0, 7]), Vector([0, 0, 3, 3, 1]), Vector([0, 7, 3, 4, 2]), Vector([-1, 0, 0, 1, 1])])"
            ],
            "text/html": [
              "<p style=\"text-align:center;\">$\\left[ \\begin{array}{cccc}1&0&0&-1\\\\2&0&7&0\\\\-4&3&3&0\\\\0&3&4&1\\\\7&1&2&1\\\\ \\end{array} \\right]$</p>"
            ],
            "image/png": "$\\left[ \\begin{array}{cccc}1&0&0&-1\\\\2&0&7&0\\\\-4&3&3&0\\\\0&3&4&1\\\\7&1&2&1\\\\ \\end{array} \\right]$",
            "text/latex": "$\\left[ \\begin{array}{cccc}1&0&0&-1\\\\2&0&7&0\\\\-4&3&3&0\\\\0&3&4&1\\\\7&1&2&1\\\\ \\end{array} \\right]$"
          },
          "metadata": {},
          "execution_count": 4
        }
      ]
    },
    {
      "cell_type": "markdown",
      "source": [
        "Calcule el siguiente vector: 3 veces la primera columna de $A$\n",
        "mas la segunda columna de $A$ menos 2 veces la tercera columna\n",
        "menos 3 veces la última columna de $A$\n"
      ],
      "metadata": {
        "id": "wjTNzARlMI3s"
      }
    },
    {
      "cell_type": "code",
      "source": [
        "op1 = 3*(A|1)\n",
        "print(op1)\n",
        "op2 = op1 + (A|2)\n",
        "print(op2)\n",
        "op3 = op2-(2*(A|3))\n",
        "print(op3)\n",
        "#Op4 es el resultado.\n",
        "op4 = op3-(3*(A|4))\n",
        "print(op4)\n",
        "op4"
      ],
      "metadata": {
        "colab": {
          "base_uri": "https://localhost:8080/",
          "height": 116
        },
        "id": "tGpvEjt4MJfG",
        "outputId": "890e499b-5c05-4e6a-de88-7594fa5f2ac1"
      },
      "execution_count": 5,
      "outputs": [
        {
          "output_type": "stream",
          "name": "stdout",
          "text": [
            "(3, 6, -12, 0, 21,)\n",
            "(3, 6, -9, 3, 22,)\n",
            "(3, -8, -15, -5, 18,)\n",
            "(6, -8, -15, -8, 15,)\n"
          ]
        },
        {
          "output_type": "execute_result",
          "data": {
            "text/plain": [
              "Vector([6, -8, -15, -8, 15])"
            ],
            "text/html": [
              "<p style=\"text-align:center;\">$\\begin{pmatrix}6\\\\ -8\\\\ -15\\\\ -8\\\\ 15\\end{pmatrix}$</p>"
            ],
            "image/png": "$\\begin{pmatrix}6\\\\ -8\\\\ -15\\\\ -8\\\\ 15\\end{pmatrix}$",
            "text/latex": "$\\begin{pmatrix}6\\\\ -8\\\\ -15\\\\ -8\\\\ 15\\end{pmatrix}$"
          },
          "metadata": {},
          "execution_count": 5
        }
      ]
    },
    {
      "cell_type": "markdown",
      "source": [
        "4. Matriz por vector (combinaciones lineales de las columnas de una matriz)\n",
        "\n",
        "Considere los vectores ${x}=(1, 1, -2)$, ${y}=(1, -2, 1)$\n",
        "\n",
        "y\n",
        "${z}=(-2, 1, 1)$ y verifique que\n",
        "$2{x}+2{y}+2{z}={0}$\n",
        "\n",
        "que resultado da : $4x+4y+4z$\n",
        "\n",
        "y que resultado da:  $-3x-3y-3z$"
      ],
      "metadata": {
        "id": "5UXqX8ZSMXZv"
      }
    },
    {
      "cell_type": "code",
      "source": [
        "x = Vector([1,1,-2])\n",
        "y = Vector([1,-2,1])\n",
        "z = Vector([-2,1,1])\n",
        "op5 = 2*x+2*y+2*z\n",
        "print(op5)\n",
        "#El resultado es 0\n",
        "\n",
        "op6 = 4*x+4*y+4*z\n",
        "print(op6)\n",
        "\n",
        "op7 = -3*x+-3*y+-3*z\n",
        "print(op7)"
      ],
      "metadata": {
        "colab": {
          "base_uri": "https://localhost:8080/"
        },
        "id": "Y4wL99xgMX9-",
        "outputId": "d9b34d33-2634-4528-b624-0e36ff84048f"
      },
      "execution_count": 6,
      "outputs": [
        {
          "output_type": "stream",
          "name": "stdout",
          "text": [
            "(0, 0, 0,)\n",
            "(0, 0, 0,)\n",
            "(0, 0, 0,)\n"
          ]
        }
      ]
    },
    {
      "cell_type": "markdown",
      "source": [
        "5. Escribe una matriz C del mismo orden que A y verifica que\n",
        "$$\n",
        "({A}{C})^T={C}^T{A}^T\n",
        "$$"
      ],
      "metadata": {
        "id": "RhZvbdX-Mbrv"
      }
    },
    {
      "cell_type": "code",
      "source": [
        "d = Vector([1,2,-5,2,-2])\n",
        "s = Vector([1,3,1,5,1])\n",
        "q = Vector([1,7,0,4,2])\n",
        "i = Vector([-3,0,2,1,4])\n",
        "C = Matrix([d,s,q,i])\n",
        "A = ~C\n",
        "op8 = ~(A*C)\n",
        "print(op8)\n",
        "op9 = ~C*~A\n",
        "print(op9)"
      ],
      "metadata": {
        "colab": {
          "base_uri": "https://localhost:8080/"
        },
        "id": "hmCYrNn3MePu",
        "outputId": "4c0e387e-14f2-4732-c86d-832334ff4e69"
      },
      "execution_count": 27,
      "outputs": [
        {
          "output_type": "stream",
          "name": "stdout",
          "text": [
            "| 38  10  19 -19|\n",
            "| 10  37  44   8|\n",
            "| 19  44  70   9|\n",
            "|-19   8   9  30|\n",
            "| 38  10  19 -19|\n",
            "| 10  37  44   8|\n",
            "| 19  44  70   9|\n",
            "|-19   8   9  30|\n"
          ]
        }
      ]
    },
    {
      "cell_type": "markdown",
      "source": [
        "6. Verifique que\n",
        "$\n",
        "{A}{I}={A}\n",
        "$\n",
        "y que\n",
        "$\n",
        "{I}{A}={A}\n",
        "$"
      ],
      "metadata": {
        "id": "cLxmb9ZuNLX1"
      }
    },
    {
      "cell_type": "code",
      "source": [
        "import sympy as sp\n",
        "from sympy import Matrix, latex\n",
        "from sympy.interactive.printing import init_printing\n",
        "init_printing(use_latex=True)\n",
        "x = Vector([1,0,0])\n",
        "y = Vector([0,5,0])\n",
        "z = Vector([0,0,3])\n",
        "B = Matrix([x,y,z])\n",
        "print(\"Matrix B\")\n",
        "display(latex(sp.latex(B)))\n",
        "print(B)\n",
        "print(\"Matrix AI\")\n",
        "display(latex(latex(A*I)))\n",
        "print(\"Matrix IA\")\n",
        "display(latex(latex(I*A)))"
      ],
      "metadata": {
        "colab": {
          "base_uri": "https://localhost:8080/",
          "height": 142
        },
        "id": "CXxW2k5jRtZc",
        "outputId": "04e2b903-42fa-44b1-d011-a0c0d616cf76"
      },
      "execution_count": 33,
      "outputs": [
        {
          "output_type": "stream",
          "name": "stdout",
          "text": [
            "Matrix B\n"
          ]
        },
        {
          "output_type": "display_data",
          "data": {
            "text/plain": [
              "'\\\\mathtt{\\\\text{\\\\textbackslashleft[\\\\textbackslashbegin\\\\{matrix\\\\}1 \\\\& 0 \\\\& 0\\\\textbackslash\\\\textbackslash0 \\\\& 5 \\\\& 0\\\\textbackslash\\\\textbackslash0 \\\\& 0 \\\\& 3\\\\textbackslashend\\\\{matrix\\\\}\\\\textbackslashright]}}'"
            ],
            "application/vnd.google.colaboratory.intrinsic+json": {
              "type": "string"
            }
          },
          "metadata": {}
        },
        {
          "output_type": "stream",
          "name": "stdout",
          "text": [
            "Matrix([[1, 0, 0], [0, 5, 0], [0, 0, 3]])\n",
            "Matrix AI\n"
          ]
        },
        {
          "output_type": "display_data",
          "data": {
            "text/plain": [
              "'\\\\mathtt{\\\\text{\\\\textbackslashtext\\\\{None\\\\}}}'"
            ],
            "application/vnd.google.colaboratory.intrinsic+json": {
              "type": "string"
            }
          },
          "metadata": {}
        },
        {
          "output_type": "stream",
          "name": "stdout",
          "text": [
            "Matrix IA\n"
          ]
        },
        {
          "output_type": "display_data",
          "data": {
            "text/plain": [
              "'\\\\mathtt{\\\\text{\\\\textbackslashtext\\\\{None\\\\}}}'"
            ],
            "application/vnd.google.colaboratory.intrinsic+json": {
              "type": "string"
            }
          },
          "metadata": {}
        }
      ]
    },
    {
      "cell_type": "markdown",
      "source": [
        "7. Producto punto\n",
        "Considere los vectores ${x}=(1, 1, -2)$, ${y}=(1, -2, 1)$\n",
        "calcula el producto punto"
      ],
      "metadata": {
        "id": "0i1_Z-IFOOje"
      }
    },
    {
      "cell_type": "code",
      "source": [
        "opx = x*y\n",
        "print(opx)"
      ],
      "metadata": {
        "colab": {
          "base_uri": "https://localhost:8080/"
        },
        "id": "6AFN5UopOOys",
        "outputId": "64757fee-0c5f-4974-abaf-044cd40fd4b9"
      },
      "execution_count": 13,
      "outputs": [
        {
          "output_type": "stream",
          "name": "stdout",
          "text": [
            "-3\n"
          ]
        }
      ]
    }
  ]
}